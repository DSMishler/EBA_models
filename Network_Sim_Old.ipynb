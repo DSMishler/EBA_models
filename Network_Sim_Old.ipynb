{
 "cells": [
  {
   "cell_type": "markdown",
   "id": "c9041b79-f91e-42e8-b89b-52718669b755",
   "metadata": {
    "tags": []
   },
   "source": [
    "# Network Simulation\n",
    "## Daniel Mishler\n",
    "### Network simulation to consider combining networking algorithms for distance"
   ]
  },
  {
   "cell_type": "markdown",
   "id": "b54203f8-e26b-4b21-bebe-1f815e5eff5f",
   "metadata": {},
   "source": [
    "## Todos\n",
    "- Find a way to determine how much memory is occupied in each router"
   ]
  },
  {
   "cell_type": "code",
   "execution_count": 1,
   "id": "742f2e14-bc63-4d4b-ab2c-4ce996936150",
   "metadata": {
    "tags": []
   },
   "outputs": [],
   "source": [
    "# import numpy as np\n",
    "# import networkx as nx\n",
    "# import dgl\n",
    "\n",
    "import random\n",
    "\n",
    "import sys # for getsizeof"
   ]
  },
  {
   "cell_type": "code",
   "execution_count": 2,
   "id": "90618731-1aa8-489b-a509-a03580031c02",
   "metadata": {},
   "outputs": [],
   "source": [
    "def random_adj(nvertices, nedges):\n",
    "    # Returns adjacency matrix\n",
    "    max_nedges = (nvertices*(nvertices-1))//2\n",
    "    if nedges > max_nedges:\n",
    "        print(f\"error: too many edges added. maximum is {max_nedges} for {nvertices} vertices\")\n",
    "        return None\n",
    "    \n",
    "    adj = [[0 for i in range(nvertices)] for j in range(nvertices)]\n",
    "    \n",
    "    for e in range(nedges):\n",
    "        edge_valid = False\n",
    "        while edge_valid is False:\n",
    "            rand = random.randint(0, nvertices*nvertices-1)\n",
    "            which_row = rand // nvertices\n",
    "            which_col = rand % nvertices\n",
    "            if (which_row != which_col) and adj[which_row][which_col] == 0:\n",
    "                edge_valid = True\n",
    "        adj[which_row][which_col] = 1\n",
    "        adj[which_col][which_row] = 1\n",
    "    \n",
    "    return adj\n",
    "def matrix_to_dgl_lists(adj):\n",
    "    from_list = []\n",
    "    to_list = []\n",
    "    i =  0\n",
    "    nvertices = len(adj)\n",
    "    while i < nvertices:\n",
    "        j = i+1\n",
    "        while j < nvertices:\n",
    "            if adj[i][j] == 1:\n",
    "                from_list.append(i)\n",
    "                to_list.append(j)\n",
    "                \n",
    "                # remove this and there's probably a way to go directed here.\n",
    "                to_list.append(i)\n",
    "                from_list.append(j)\n",
    "            j += 1\n",
    "        i += 1\n",
    "    \n",
    "    return from_list, to_list"
   ]
  },
  {
   "cell_type": "code",
   "execution_count": 3,
   "id": "bd7bf83f-d30c-4535-9a81-c6ee077b28fd",
   "metadata": {
    "tags": []
   },
   "outputs": [],
   "source": [
    "alphabet = ['A', 'B', 'C', 'D', 'E', 'F', 'G', 'H', 'I', 'J', 'K', 'L', 'M',\n",
    "            'N', 'O', 'P', 'Q', 'R', 'S', 'T', 'U', 'V', 'W', 'X', 'Y', 'Z']"
   ]
  },
  {
   "cell_type": "code",
   "execution_count": 4,
   "id": "3f273319-25e0-4074-a8c5-d9702e8cffa5",
   "metadata": {
    "tags": []
   },
   "outputs": [],
   "source": [
    "nvertices = 20\n",
    "nedges = 50\n",
    "MAX_DISTANCE = 20\n",
    "\n",
    "adj = random_adj(nvertices,nedges)"
   ]
  },
  {
   "cell_type": "code",
   "execution_count": 5,
   "id": "db5a5ae7-2806-4b1a-bb1f-c24f8e01648e",
   "metadata": {},
   "outputs": [],
   "source": [
    "import graphviz"
   ]
  },
  {
   "cell_type": "code",
   "execution_count": 6,
   "id": "6161023c-7696-47c1-be1b-a61e45fac13e",
   "metadata": {
    "tags": []
   },
   "outputs": [],
   "source": [
    "def adj_to_gv_edge_list(adj):\n",
    "    edge_list = []\n",
    "    for i in range(len(adj)):\n",
    "        for j in range(i+1, len(adj[i])):\n",
    "            if adj[i][j] == 1:\n",
    "                # estr = alphabet[i]+alphabet[j]\n",
    "                estr = str(i)+\",\"+str(j)\n",
    "                edge_list.append(estr)\n",
    "                \n",
    "    return edge_list"
   ]
  },
  {
   "cell_type": "code",
   "execution_count": 7,
   "id": "50d221d7-995f-4f9f-8f21-364c0e492685",
   "metadata": {
    "tags": []
   },
   "outputs": [],
   "source": [
    "def adj_to_gv_digraph(adj):\n",
    "    edge_list = adj_to_gv_edge_list(adj)\n",
    "    dot = graphviz.Digraph(comment=\"network test graph\")\n",
    "    for edge in edge_list:\n",
    "        edge = edge.split(',')\n",
    "        dot.edge(edge[0], edge[1], dir=\"both\")\n",
    "    return dot"
   ]
  },
  {
   "cell_type": "code",
   "execution_count": 8,
   "id": "3b8fca2f-fa27-434b-a786-f1b80234b795",
   "metadata": {
    "tags": []
   },
   "outputs": [],
   "source": [
    "def init_vertex_gv_list():\n",
    "    return [{} for i in range(nvertices)]\n",
    "def init_edge_gv_dict():\n",
    "    return {}"
   ]
  },
  {
   "cell_type": "code",
   "execution_count": 9,
   "id": "e8392b52-5f25-4c8c-ae5d-685b823982c9",
   "metadata": {
    "tags": []
   },
   "outputs": [],
   "source": [
    "def all_to_dot(adj, vertex_dict_list, color_edges_dict):\n",
    "    dotstr = \"\"\n",
    "    dotstr += \"// network test graph\\n\"\n",
    "    dotstr += \"digraph\\n\"\n",
    "    dotstr += \"{\\n\"\n",
    "    \n",
    "    for i in range(len(vertex_dict_list)):\n",
    "        which_vertex = i\n",
    "        dotstr += f\"\\t{which_vertex} [\"\n",
    "        \n",
    "        for key in vertex_dict_list[i]:\n",
    "            dotstr += f\"{key}={vertex_dict_list[i][key]},\" # extra comma is fine\n",
    "        \n",
    "        dotstr += \"]\\n\"\n",
    "    \n",
    "    for i in range(len(adj)):\n",
    "        for j in range(i+1, len(adj[i])):\n",
    "            if adj[i][j] == 1:\n",
    "                edgestr = f\"{i} -> {j}\"\n",
    "                dotstr += f\"\\t{edgestr} [\"\n",
    "                \n",
    "                if edgestr in color_edges_dict.keys():\n",
    "                    for key in color_edges_dict[edgestr]:\n",
    "                        dotstr += f\"{key}={color_edges_dict[edgestr][key]},\"\n",
    "                \n",
    "                else:\n",
    "                    dotstr += \"dir=none\" # default\n",
    "                \n",
    "                \n",
    "                dotstr += \"]\\n\"\n",
    "                \n",
    "    \n",
    "    \n",
    "    \n",
    "    dotstr += \"}\"\n",
    "    return dotstr"
   ]
  },
  {
   "cell_type": "code",
   "execution_count": 10,
   "id": "1b3d8ebd-a2ba-4b72-8528-168ac61ddcff",
   "metadata": {
    "tags": []
   },
   "outputs": [],
   "source": [
    "def name_yielder():\n",
    "    i = 0\n",
    "    while True:\n",
    "        name = f\"nxt{i:04}\"\n",
    "        yield name\n",
    "        i += 1"
   ]
  },
  {
   "cell_type": "code",
   "execution_count": 11,
   "id": "07a868eb-491a-4269-9766-0a7efc6c588a",
   "metadata": {
    "tags": []
   },
   "outputs": [],
   "source": [
    "yielder = name_yielder()\n",
    "def all_to_file(adj, vertex_dict_list, color_edges_dict):\n",
    "    dotstr = all_to_dot(adj, vertex_dict_list, color_edges_dict)\n",
    "    fname = \"gv_graphs/\"+next(yielder)+\".dot\"\n",
    "    f = open(fname, \"w\")\n",
    "    f.write(dotstr)\n",
    "    f.close()"
   ]
  },
  {
   "cell_type": "code",
   "execution_count": 12,
   "id": "6b71538a-7e9d-4b7d-9eb0-44f0e833b267",
   "metadata": {
    "tags": []
   },
   "outputs": [],
   "source": [
    "def concat_list_of_dicts(list_of_dicts):\n",
    "    my_dict = {}\n",
    "    for element in list_of_dicts:\n",
    "        for key in element:\n",
    "            if key not in my_dict:\n",
    "                my_dict[key] = element[key]\n",
    "            else:\n",
    "                print(f\"error in concat_list_of_dicts: repeat key {key}\")\n",
    "                print(f\"original list: {list_of_dicts}\")\n",
    "    return my_dict"
   ]
  },
  {
   "cell_type": "code",
   "execution_count": 13,
   "id": "23783219-043a-4073-bc62-290164d1cdf3",
   "metadata": {},
   "outputs": [],
   "source": [
    "def edges_to_gv_dict(e1, e2, color=\"red\"):\n",
    "    dir = None\n",
    "    if int(e1) < int(e2):\n",
    "        smaller = e1\n",
    "        larger = e2\n",
    "        dir = \"forward\"\n",
    "    else:\n",
    "        smaller = e2\n",
    "        larger = e1\n",
    "        dir = \"back\"\n",
    "    estr = f\"{smaller} -> {larger}\"\n",
    "    return {estr : {\"dir\": dir, \"color\": color}}"
   ]
  },
  {
   "cell_type": "code",
   "execution_count": 14,
   "id": "64754b02-4373-41b7-93e1-3ff1c5883fd3",
   "metadata": {
    "tags": []
   },
   "outputs": [],
   "source": [
    "def empty_routing_dict():\n",
    "    return {\"distance\": MAX_DISTANCE, \"first_hop\": -1}\n",
    "def empty_routing_table():\n",
    "    return [empty_routing_dict() for i in range(nvertices)]"
   ]
  },
  {
   "cell_type": "code",
   "execution_count": 15,
   "id": "2c45dc41-88c1-40c2-9428-1cad246bf838",
   "metadata": {
    "tags": []
   },
   "outputs": [],
   "source": [
    "class Router:\n",
    "    def __init__(self, my_number, neighbors):\n",
    "        self.my_number = my_number\n",
    "        self.neighbors = neighbors\n",
    "        self.table_queue = []\n",
    "        self.routing_table = empty_routing_table()\n",
    "        self.init_routing_table()\n",
    "        self.all_tables = {} # for link state\n",
    "        self.reconstructed_adj = None\n",
    "        self.router_list = None # will be populated later\n",
    "        self.table_sends = 0\n",
    "        self.functions = {}\n",
    "        self.function_queue = []\n",
    "    def init_routing_table(self):\n",
    "        self.routing_table = empty_routing_table()\n",
    "        self.routing_table[self.my_number][\"distance\"] = 0\n",
    "        for neighbor in self.neighbors:\n",
    "            self.routing_table[neighbor][\"distance\"] = 1\n",
    "            self.routing_table[neighbor][\"first_hop\"] = neighbor\n",
    "    def print_adj_table(self):\n",
    "        print(\"target | distance | first hop\")\n",
    "        print(\"-------|----------|----------\")\n",
    "        for i in range(nvertices):\n",
    "            print(f\"{i:>6} | {self.routing_table[i]['distance']:>8} | {self.routing_table[i]['first_hop']:>7}\")\n",
    "    \n",
    "    def clear_function_queue(self, verbose=False, forward=True):\n",
    "        to_send = []\n",
    "\n",
    "        for new_function in self.function_queue:\n",
    "            fname = list(new_function)[0]\n",
    "            fbody = new_function[fname]\n",
    "            if fname not in self.functions.keys():\n",
    "                # then yes, we have at least one new function\n",
    "                to_send.append(new_function)\n",
    "                self.functions[fname] = fbody\n",
    "\n",
    "        self.function_queue = [] # now empty the queue\n",
    "\n",
    "        \n",
    "        edge_dict_list = []\n",
    "        if len(to_send) > 0:\n",
    "            for neighbor in self.neighbors:\n",
    "                for new_function in to_send:\n",
    "                    self.router_list[neighbor].function_queue.append(new_function)\n",
    "                    if verbose:\n",
    "                        print(f\"sending function {new_function} from router {self.my_number} to router {neighbor}\")\n",
    "                edge_dict_list.append(edges_to_gv_dict(self.my_number, neighbor, color=\"green\"))\n",
    "            \n",
    "        return concat_list_of_dicts(edge_dict_list)\n",
    "        \n",
    "    ### Link State functions\n",
    "    def init_dfw(self):\n",
    "        self.all_tables[self.my_number] = {}\n",
    "        self.all_tables[self.my_number]['seen_by'] = [False for i in range(nvertices)]\n",
    "        self.all_tables[self.my_number]['seen_by'][self.my_number] = True\n",
    "        self.all_tables[self.my_number]['sent_by'] = self.my_number\n",
    "        self.all_tables[self.my_number]['sender_waiting'] = True\n",
    "        self.all_tables[self.my_number]['self_waiting'] = False\n",
    "        self.all_tables[self.my_number]['table'] = self.routing_table\n",
    "    def tables_to_forward(self):\n",
    "        for key in self.all_tables:\n",
    "            if self.all_tables[key]['sender_waiting'] == True:\n",
    "                return True\n",
    "        return False\n",
    "    def send_tables_dfw(self, verbose=False):\n",
    "        for key in self.all_tables:\n",
    "            if self.all_tables[key]['sender_waiting'] == True:\n",
    "                if self.all_tables[key]['self_waiting'] == False:\n",
    "                    for neighbor in self.neighbors:\n",
    "                        if self.all_tables[key]['seen_by'][neighbor] == False:\n",
    "                            table_copy = {}\n",
    "                            table_copy['self_waiting'] = False\n",
    "                            table_copy['sender_waiting'] = True\n",
    "                            table_copy['sent_by'] = self.my_number\n",
    "                            table_copy['seen_by'] = self.all_tables[key]['seen_by'].copy()\n",
    "                            table_copy['seen_by'][neighbor] = True # pre-marking it as seen is fine\n",
    "                            table_copy['table'] = self.all_tables[key]['table']\n",
    "                            self.router_list[neighbor].all_tables[key] = table_copy\n",
    "                            self.table_sends += 1\n",
    "                            if verbose == True:\n",
    "                                print(f\"router {self.my_number} sending table for router {key} DOWN to router {neighbor}\")\n",
    "                                print(f\"    the table has been seen by: {self.all_tables[key]['seen_by']}\")\n",
    "                            self.all_tables[key]['self_waiting'] = True\n",
    "                            break\n",
    "                # if I'm still not waiting (didn't send a table down)\n",
    "                if self.all_tables[key]['self_waiting'] == False:\n",
    "                    # Then we should send our copy back to the sender (send up)\n",
    "                    if key == self.my_number:\n",
    "                        # if I am the original sender then we are done\n",
    "                        pass\n",
    "                    else:\n",
    "                        # otherwise we should send it back to who we got it from\n",
    "                        sender = self.all_tables[key]['sent_by']\n",
    "                        \"\"\"\n",
    "                        for i in range(self.all_tables[key]['seen_by']):\n",
    "                            if (self.all_tables[key]['seen_by'][i] == True):\n",
    "                                self.router_list[sender].all_tables[key]['seen_by'][i] = True\n",
    "                        \"\"\"\n",
    "\n",
    "                        if verbose == True:\n",
    "                            print(f\"router {self.my_number} sending table for router {key} UP to router {sender}\")\n",
    "                            print(f\"    the table has been seen by: {self.all_tables[key]['seen_by']}\")\n",
    "\n",
    "                        self.router_list[sender].all_tables[key]['self_waiting'] = False\n",
    "                        self.router_list[sender].all_tables[key]['sender_waiting'] = True # sending it back recursively, so the sender is certainly still waiting\n",
    "                        # don't change the sent_by from the sender\n",
    "                        self.router_list[sender].all_tables[key]['seen_by'] = self.all_tables[key]['seen_by'].copy()\n",
    "                        # don't need to change the original table itself\n",
    "                    self.all_tables[key]['sender_waiting'] = False\n",
    "                    \n",
    "                    \n",
    "        return True\n",
    "    def reconstruct_adj(self):\n",
    "        self.reconstructed_adj = [[0 for i in range(nvertices)] for j in range(nvertices)]\n",
    "        for key in self.all_tables:\n",
    "            table = self.all_tables[key]['table']\n",
    "            neighbors = [] # different from self.neighbors\n",
    "            for i in range(len(table)):\n",
    "                if table[i][\"distance\"] == 1:\n",
    "                    neighbors.append(i)\n",
    "            for i in neighbors:\n",
    "                self.reconstructed_adj[key][i] = 1\n",
    "    def dijkstra_to_table(self):\n",
    "        seeking_distance = 1 # start from 1 because 0 is already done.\n",
    "        while True:\n",
    "            updated_table = False\n",
    "            for i in range(nvertices):\n",
    "                if self.routing_table[i][\"distance\"] > seeking_distance:\n",
    "                    for j in range(nvertices):\n",
    "                        if self.reconstructed_adj[i][j]:\n",
    "                            if self.routing_table[j][\"distance\"] == seeking_distance:\n",
    "                                self.routing_table[i][\"distance\"] = seeking_distance + 1\n",
    "                                self.routing_table[i][\"first_hop\"] = self.routing_table[j][\"first_hop\"]\n",
    "                                updated_table = True\n",
    "                            elif self.routing_table[j][\"distance\"] < seeking_distance:\n",
    "                                print(\"some kind of error occured. Abort.\")\n",
    "                                return\n",
    "            seeking_distance += 1\n",
    "            if updated_table is False:\n",
    "                break # alternatively, we could stop when all entries are filled"
   ]
  },
  {
   "cell_type": "code",
   "execution_count": 16,
   "id": "3f21c711-c77f-4552-818c-9cc04db8b7e9",
   "metadata": {
    "tags": []
   },
   "outputs": [],
   "source": [
    "def init_routers():\n",
    "    routers = []\n",
    "    for i in range(nvertices):\n",
    "        neighbors_of_i = []\n",
    "        for j in range(nvertices):\n",
    "            if adj[i][j]:\n",
    "                neighbors_of_i.append(j)\n",
    "        routers.append(Router(i,neighbors_of_i))\n",
    "    for router in routers:\n",
    "        router.router_list = routers\n",
    "    return routers"
   ]
  },
  {
   "cell_type": "markdown",
   "id": "0800e4c1-bf8d-4451-8e19-6b56f61fed4a",
   "metadata": {},
   "source": [
    "### Distance Vector"
   ]
  },
  {
   "cell_type": "code",
   "execution_count": 17,
   "id": "bd7773cb-f693-42ba-a5fa-e828d5ffe849",
   "metadata": {
    "tags": []
   },
   "outputs": [],
   "source": [
    "def queues_full():\n",
    "    which_queues = []\n",
    "    for i in range(len(routers)):\n",
    "        if len(routers[i].table_queue) > 0 or len(routers[i].function_queue) > 0:\n",
    "            which_queues.append(i)\n",
    "    return which_queues"
   ]
  },
  {
   "cell_type": "code",
   "execution_count": 18,
   "id": "1857212d-32d0-4a97-8f9f-2dcdb8800791",
   "metadata": {
    "tags": []
   },
   "outputs": [],
   "source": [
    "def reset_table_sends():\n",
    "    for router in routers:\n",
    "        router.table_sends = 0"
   ]
  },
  {
   "cell_type": "code",
   "execution_count": 19,
   "id": "2b8d9e77-ed64-4e92-99a8-2e081f254dba",
   "metadata": {
    "tags": []
   },
   "outputs": [],
   "source": [
    "def distance_via_dv(initiating_router,verbose=False):\n",
    "    reset_table_sends()\n",
    "    routers[initiating_router].send_request_to_neighbors()\n",
    "    \n",
    "    while(len(queues_full()) > 0):\n",
    "        which_queues = queues_full()\n",
    "        run_this_one = which_queues[random.randrange(len(which_queues))]\n",
    "        routers[run_this_one].update_routing_table(verbose=verbose) # could also do all updates\n",
    "    \n",
    "    total_sends = 0\n",
    "    for router in routers:\n",
    "        total_sends += router.table_sends\n",
    "    return total_sends"
   ]
  },
  {
   "cell_type": "markdown",
   "id": "ef9b06c3-b1e3-4620-b749-a03b00bd978b",
   "metadata": {},
   "source": [
    "### Link State"
   ]
  },
  {
   "cell_type": "code",
   "execution_count": 20,
   "id": "ed02212d-f34d-4f57-844f-a56214e38a9a",
   "metadata": {},
   "outputs": [],
   "source": [
    "def routers_with_forwarding():\n",
    "    which_routers = []\n",
    "    for i in range(len(routers)):\n",
    "        if routers[i].tables_to_forward():\n",
    "            which_routers.append(i)\n",
    "    return which_routers"
   ]
  },
  {
   "cell_type": "code",
   "execution_count": 21,
   "id": "f322c779-5cc1-499f-8c4e-7b053d236279",
   "metadata": {},
   "outputs": [],
   "source": [
    "def dfw_wrapper(verbose=False):\n",
    "    # TODO: start the link state locally and the first time a router receives a singal, it init-s itself.\n",
    "    reset_table_sends()\n",
    "    for router in routers:\n",
    "        router.init_dfw()\n",
    "    \n",
    "    while(len(routers_with_forwarding()) > 0):\n",
    "          which_routers = routers_with_forwarding()\n",
    "          run_this_one = which_routers[random.randrange(len(which_routers))]\n",
    "          routers[run_this_one].send_tables_dfw(verbose)\n",
    "    \n",
    "    total_sends = 0\n",
    "    for router in routers:\n",
    "        total_sends += router.table_sends\n",
    "    return total_sends"
   ]
  },
  {
   "cell_type": "code",
   "execution_count": 22,
   "id": "8993dd2d-4961-4416-a7d5-b843fad47b8b",
   "metadata": {
    "tags": []
   },
   "outputs": [],
   "source": [
    "def distance_via_ls(verbose=False):\n",
    "    send_count_ls = 0\n",
    "    send_count_ls = dfw_wrapper(verbose)\n",
    "    for router in routers:\n",
    "        router.reconstruct_adj()\n",
    "        router.dijkstra_to_table()\n",
    "    return send_count_ls"
   ]
  },
  {
   "cell_type": "markdown",
   "id": "016d9e94-f6ab-4f25-b011-2b26ae96652e",
   "metadata": {},
   "source": [
    "### EBA-showcasing functions for routers"
   ]
  },
  {
   "cell_type": "code",
   "execution_count": 23,
   "id": "fb43fe13-c6bf-47dc-9f84-9a5f1f381218",
   "metadata": {
    "tags": []
   },
   "outputs": [],
   "source": [
    "def show_my_functions(router):\n",
    "    print(router.functions)"
   ]
  },
  {
   "cell_type": "code",
   "execution_count": 24,
   "id": "300f8e8a-17b8-49d9-ad1e-af37919f9464",
   "metadata": {
    "tags": []
   },
   "outputs": [
    {
     "name": "stdout",
     "output_type": "stream",
     "text": [
      "{'show': <function show_my_functions at 0x7f8b68415550>}\n"
     ]
    }
   ],
   "source": [
    "routers = init_routers()\n",
    "routers[0].functions[\"show\"] = show_my_functions\n",
    "routers[0].functions[\"show\"](routers[0])"
   ]
  },
  {
   "cell_type": "code",
   "execution_count": 25,
   "id": "1e365387-9a46-4b93-afcb-3c1de4be6802",
   "metadata": {
    "tags": []
   },
   "outputs": [],
   "source": [
    "### Distance Vector functions\n",
    "# For local, proper version\n",
    "def update_routing_table(router, verbose=False):\n",
    "    routers_awaiting_reply = []\n",
    "\n",
    "    table_changed = False\n",
    "    while len(router.table_queue) > 0:\n",
    "    \n",
    "        # Take the first element of the queue of tables and update self table\n",
    "        in_table = router.table_queue[0][\"table\"]\n",
    "        in_sender = router.table_queue[0][\"sender\"]\n",
    "        response_req = router.table_queue[0][\"response\"]\n",
    "\n",
    "        # Check to make sure my paths still exist\n",
    "        for i in range(nvertices):\n",
    "            if router.routing_table[i][\"first_hop\"] == in_sender:\n",
    "                # Then the my path length needs to be exactly theirs, plus one.\n",
    "                if router.routing_table[i][\"distance\"] < in_table[i][\"distance\"]+1:\n",
    "                    router.routing_table[i][\"distance\"] = in_table[i][\"distance\"]+1\n",
    "                    table_changed=True\n",
    "\n",
    "        # Grab faster paths from the table\n",
    "        for i in range(nvertices):\n",
    "            if in_table[i][\"distance\"]+1 < router.routing_table[i][\"distance\"]:\n",
    "                # if this new table offers a faster route\n",
    "                router.routing_table[i][\"distance\"] = in_table[i][\"distance\"]+1\n",
    "                router.routing_table[i][\"first_hop\"] = in_sender\n",
    "                # then the new fastest route is sent that direction\n",
    "                table_changed = True\n",
    "\n",
    "        if verbose:\n",
    "            print(f\"router {router.my_number} processed table from {in_sender}\")\n",
    "\n",
    "        if response_req and in_sender not in routers_awaiting_reply:\n",
    "            routers_awaiting_reply.append(in_sender)\n",
    "\n",
    "        router.table_queue = router.table_queue[1:] # pop from the queue\n",
    "    \n",
    "    \n",
    "    edge_gv_dict = {}\n",
    "    if table_changed:\n",
    "        if verbose:\n",
    "            print(\"yes, changed table. Sending out to all neighbors.\")\n",
    "            router.print_adj_table()\n",
    "            print()\n",
    "            print()\n",
    "        edge_gv_dict = router.functions[\"send_request_to_neighbors\"](router)\n",
    "    elif len(routers_awaiting_reply) > 0: # We didn't change our table, but a sender wanted a response\n",
    "        if verbose:\n",
    "            print(\"no, did not change table, but sending back per request\")\n",
    "        edge_gv_dict = router.functions[\"send_request_back\"](router, routers_awaiting_reply)\n",
    "    else:\n",
    "        if verbose:\n",
    "            print(f\"No need for more action.\")\n",
    "        pass\n",
    "\n",
    "    return edge_gv_dict\n",
    "def send_request_to_neighbors(router):\n",
    "    request_dict = {}\n",
    "    request_dict[\"table\"] = router.routing_table\n",
    "    request_dict[\"response\"] = True\n",
    "    request_dict[\"sender\"] = router.my_number\n",
    "    edge_dict_list = []\n",
    "    for neighbor in router.neighbors:\n",
    "        router.router_list[neighbor].table_queue.append(request_dict)\n",
    "        router.table_sends += 1\n",
    "        edge_dict_list.append(edges_to_gv_dict(router.my_number, neighbor))\n",
    "    return concat_list_of_dicts(edge_dict_list)\n",
    "def send_request_back(router, targets):\n",
    "    request_dict = {}\n",
    "    request_dict[\"table\"] = router.routing_table\n",
    "    request_dict[\"response\"] = False\n",
    "    request_dict[\"sender\"] = router.my_number\n",
    "    \n",
    "    edge_dict_list = []\n",
    "    for target in targets:\n",
    "        router.router_list[target].table_queue.append(request_dict)\n",
    "        router.table_sends += 1\n",
    "        edge_dict_list.append(edges_to_gv_dict(router.my_number, target, color=\"blue\"))\n",
    "\n",
    "    return concat_list_of_dicts(edge_dict_list)\n",
    "def clear_table_queue(router):\n",
    "    table_changed = False\n",
    "    while len(router.table_queue) > 0:\n",
    "        table_changed = router.functions[\"update_routing_table\"](router)\n",
    "    return table_changed"
   ]
  },
  {
   "cell_type": "code",
   "execution_count": 26,
   "id": "d5e4b49f-c03a-492c-a4b1-ff8d9eaf9659",
   "metadata": {
    "tags": []
   },
   "outputs": [],
   "source": [
    "def vertex_gv_list_from_routers(routers):\n",
    "    vertex_gv_list = init_vertex_gv_list()\n",
    "    for i in range(len(routers)):\n",
    "        if \"update_routing_table\" in routers[i].functions:\n",
    "            vertex_gv_list[i][\"fillcolor\"] = \"gray\"\n",
    "            vertex_gv_list[i][\"style\"] = \"filled\"\n",
    "        for el in routers[i].function_queue:\n",
    "            if \"update_routing_table\" in el:\n",
    "                vertex_gv_list[i][\"fillcolor\"] = \"gray\"\n",
    "                vertex_gv_list[i][\"style\"] = \"filled\"            \n",
    "    return vertex_gv_list"
   ]
  },
  {
   "cell_type": "code",
   "execution_count": 27,
   "id": "936df8a2-5263-4f8e-84db-ab06b59ef378",
   "metadata": {},
   "outputs": [],
   "source": [
    "mylist = [{\"update_routing_table\":update_routing_table}]"
   ]
  },
  {
   "cell_type": "code",
   "execution_count": 28,
   "id": "bfa38c83-8fcf-40ab-bd88-5d546e3f057a",
   "metadata": {
    "tags": []
   },
   "outputs": [],
   "source": [
    "def distance_via_dv_eba(initiating_router,verbose=False, files=False):\n",
    "    reset_table_sends()\n",
    "\n",
    "\n",
    "    edge_gv_dict = init_edge_gv_dict()\n",
    "    \n",
    "    routers[initiating_router].function_queue = [{\"update_routing_table\":update_routing_table},\n",
    "                                                 {\"send_request_to_neighbors\":send_request_to_neighbors},\n",
    "                                                 {\"send_request_back\":send_request_back},\n",
    "                                                 {\"clear_table_queue\":clear_table_queue}]\n",
    "    edge_gv_dict_functions = routers[initiating_router].clear_function_queue(verbose=verbose, forward=True)\n",
    "    edge_gv_dict = routers[initiating_router].functions[\"send_request_to_neighbors\"](routers[initiating_router])\n",
    "\n",
    "    vertex_gv_list = vertex_gv_list_from_routers(routers)\n",
    "    if files==True:\n",
    "        all_to_file(adj, vertex_gv_list, edge_gv_dict)\n",
    "        # make the graph\n",
    "\n",
    "    loop_n = 0\n",
    "    while(len(queues_full()) > 0):\n",
    "        loop_n += 1\n",
    "        which_queues = queues_full()\n",
    "        run_this_one = which_queues[random.randrange(len(which_queues))]\n",
    "        edge_gv_dict_functions = routers[run_this_one].clear_function_queue(verbose=verbose, forward=True)\n",
    "        edge_gv_dict = routers[run_this_one].functions[\"update_routing_table\"](routers[run_this_one], verbose=verbose)\n",
    "        # could also do all updates at once, but this inhibits visualization. Would require a mild rework.\n",
    "\n",
    "        print(f\"{loop_n}:\", edge_gv_dict)\n",
    "\n",
    "        # possible todo: make no-edge runs not show?\n",
    "\n",
    "        vertex_gv_list = vertex_gv_list_from_routers(routers)\n",
    "        vertex_gv_list[run_this_one][\"color\"] = \"red\"\n",
    "        \n",
    "        if files==True:\n",
    "            all_to_file(adj, vertex_gv_list, edge_gv_dict)\n",
    "\n",
    "        \n",
    "    \n",
    "    total_sends = 0\n",
    "    for router in routers:\n",
    "        total_sends += router.table_sends\n",
    "    return total_sends"
   ]
  },
  {
   "cell_type": "markdown",
   "id": "1ad4a6e8-a044-4066-9823-ac1c3fb43690",
   "metadata": {},
   "source": [
    "### Topology Change (Eliminating an edge or adding one)"
   ]
  },
  {
   "cell_type": "code",
   "execution_count": 29,
   "id": "17d9eff2-910b-40a4-b7de-eecece7a9011",
   "metadata": {
    "tags": []
   },
   "outputs": [],
   "source": [
    "def change_adj(i, j, add_or_remove=True):\n",
    "    # add_or_remove: True for add, False for remove\n",
    "    \n",
    "    # check:\n",
    "    if add_or_remove and adj[i][j]==1:\n",
    "        # then do nothing\n",
    "        return\n",
    "    if not add_or_remove and adj[i][j]==0:\n",
    "        # also do nothing\n",
    "        return\n",
    "    \n",
    "    if add_or_remove is True:\n",
    "        adj[i][j] = 1\n",
    "        adj[j][i] = 1\n",
    "        routers[j].neighbors.append(i)\n",
    "        routers[i].neighbors.append(j)\n",
    "\n",
    "    if add_or_remove is False:\n",
    "        adj[i][j] = 0\n",
    "        adj[j][i] = 0\n",
    "        routers[j].neighbors.remove(i)\n",
    "        routers[i].neighbors.remove(j)\n",
    "    \n",
    "    routers[j].init_routing_table()\n",
    "    routers[i].init_routing_table()"
   ]
  },
  {
   "cell_type": "markdown",
   "id": "a0394710-daaa-4b78-aa92-65649cc78388",
   "metadata": {},
   "source": [
    "### Comparison"
   ]
  },
  {
   "cell_type": "code",
   "execution_count": 30,
   "id": "939b6f94-332f-4596-9b89-4caef8e6aedf",
   "metadata": {
    "tags": []
   },
   "outputs": [],
   "source": [
    "# draw again"
   ]
  },
  {
   "cell_type": "code",
   "execution_count": 31,
   "id": "58d461c4-97d0-45fe-ad19-dcdf3bc7d9b6",
   "metadata": {
    "tags": []
   },
   "outputs": [
    {
     "name": "stdout",
     "output_type": "stream",
     "text": [
      "total sent tables: 380\n"
     ]
    }
   ],
   "source": [
    "routers = init_routers()\n",
    "send_count_ls = distance_via_ls(verbose=False)\n",
    "print(f\"total sent tables: {send_count_ls}\")"
   ]
  },
  {
   "cell_type": "code",
   "execution_count": 32,
   "id": "1131a9ba-05af-4dcd-90cd-8679ec4152cc",
   "metadata": {
    "tags": []
   },
   "outputs": [
    {
     "name": "stdout",
     "output_type": "stream",
     "text": [
      "target | distance | first hop\n",
      "-------|----------|----------\n",
      "     0 |        0 |      -1\n",
      "     1 |        2 |       8\n",
      "     2 |        1 |       2\n",
      "     3 |        2 |      16\n",
      "     4 |        2 |       5\n",
      "     5 |        1 |       5\n",
      "     6 |        2 |       5\n",
      "     7 |        1 |       7\n",
      "     8 |        1 |       8\n",
      "     9 |        2 |      16\n",
      "    10 |        2 |      15\n",
      "    11 |        2 |       8\n",
      "    12 |        2 |      15\n",
      "    13 |        2 |      16\n",
      "    14 |        3 |      16\n",
      "    15 |        1 |      15\n",
      "    16 |        1 |      16\n",
      "    17 |        2 |      16\n",
      "    18 |        2 |      16\n",
      "    19 |        3 |      16\n"
     ]
    }
   ],
   "source": [
    "routers[0].print_adj_table()"
   ]
  },
  {
   "cell_type": "code",
   "execution_count": 33,
   "id": "10c4b605-7e25-4e46-a4b7-eef1dce5c2b5",
   "metadata": {
    "tags": []
   },
   "outputs": [
    {
     "name": "stdout",
     "output_type": "stream",
     "text": [
      "zsh:1: no matches found: gv_graphs/*.dot\n"
     ]
    }
   ],
   "source": [
    "!rm gv_graphs/*.dot"
   ]
  },
  {
   "cell_type": "code",
   "execution_count": 34,
   "id": "71b8ffa2-8c7e-4edf-a29e-4ebbcf3680ac",
   "metadata": {},
   "outputs": [
    {
     "ename": "FileNotFoundError",
     "evalue": "[Errno 2] No such file or directory: 'gv_graphs/nxt0000.dot'",
     "output_type": "error",
     "traceback": [
      "\u001b[0;31m---------------------------------------------------------------------------\u001b[0m",
      "\u001b[0;31mFileNotFoundError\u001b[0m                         Traceback (most recent call last)",
      "Cell \u001b[0;32mIn[34], line 2\u001b[0m\n\u001b[1;32m      1\u001b[0m routers \u001b[38;5;241m=\u001b[39m init_routers()\n\u001b[0;32m----> 2\u001b[0m send_count_dv_init \u001b[38;5;241m=\u001b[39m \u001b[43mdistance_via_dv_eba\u001b[49m\u001b[43m(\u001b[49m\u001b[38;5;241;43m0\u001b[39;49m\u001b[43m,\u001b[49m\u001b[43mfiles\u001b[49m\u001b[38;5;241;43m=\u001b[39;49m\u001b[38;5;28;43;01mTrue\u001b[39;49;00m\u001b[43m)\u001b[49m\n\u001b[1;32m      3\u001b[0m \u001b[38;5;28mprint\u001b[39m(\u001b[38;5;124mf\u001b[39m\u001b[38;5;124m\"\u001b[39m\u001b[38;5;124mtotal sent tables: \u001b[39m\u001b[38;5;132;01m{\u001b[39;00msend_count_dv_init\u001b[38;5;132;01m}\u001b[39;00m\u001b[38;5;124m\"\u001b[39m)\n",
      "Cell \u001b[0;32mIn[28], line 16\u001b[0m, in \u001b[0;36mdistance_via_dv_eba\u001b[0;34m(initiating_router, verbose, files)\u001b[0m\n\u001b[1;32m     14\u001b[0m vertex_gv_list \u001b[38;5;241m=\u001b[39m vertex_gv_list_from_routers(routers)\n\u001b[1;32m     15\u001b[0m \u001b[38;5;28;01mif\u001b[39;00m files\u001b[38;5;241m==\u001b[39m\u001b[38;5;28;01mTrue\u001b[39;00m:\n\u001b[0;32m---> 16\u001b[0m     \u001b[43mall_to_file\u001b[49m\u001b[43m(\u001b[49m\u001b[43madj\u001b[49m\u001b[43m,\u001b[49m\u001b[43m \u001b[49m\u001b[43mvertex_gv_list\u001b[49m\u001b[43m,\u001b[49m\u001b[43m \u001b[49m\u001b[43medge_gv_dict\u001b[49m\u001b[43m)\u001b[49m\n\u001b[1;32m     17\u001b[0m     \u001b[38;5;66;03m# make the graph\u001b[39;00m\n\u001b[1;32m     19\u001b[0m loop_n \u001b[38;5;241m=\u001b[39m \u001b[38;5;241m0\u001b[39m\n",
      "Cell \u001b[0;32mIn[11], line 5\u001b[0m, in \u001b[0;36mall_to_file\u001b[0;34m(adj, vertex_dict_list, color_edges_dict)\u001b[0m\n\u001b[1;32m      3\u001b[0m dotstr \u001b[38;5;241m=\u001b[39m all_to_dot(adj, vertex_dict_list, color_edges_dict)\n\u001b[1;32m      4\u001b[0m fname \u001b[38;5;241m=\u001b[39m \u001b[38;5;124m\"\u001b[39m\u001b[38;5;124mgv_graphs/\u001b[39m\u001b[38;5;124m\"\u001b[39m\u001b[38;5;241m+\u001b[39m\u001b[38;5;28mnext\u001b[39m(yielder)\u001b[38;5;241m+\u001b[39m\u001b[38;5;124m\"\u001b[39m\u001b[38;5;124m.dot\u001b[39m\u001b[38;5;124m\"\u001b[39m\n\u001b[0;32m----> 5\u001b[0m f \u001b[38;5;241m=\u001b[39m \u001b[38;5;28;43mopen\u001b[39;49m\u001b[43m(\u001b[49m\u001b[43mfname\u001b[49m\u001b[43m,\u001b[49m\u001b[43m \u001b[49m\u001b[38;5;124;43m\"\u001b[39;49m\u001b[38;5;124;43mw\u001b[39;49m\u001b[38;5;124;43m\"\u001b[39;49m\u001b[43m)\u001b[49m\n\u001b[1;32m      6\u001b[0m f\u001b[38;5;241m.\u001b[39mwrite(dotstr)\n\u001b[1;32m      7\u001b[0m f\u001b[38;5;241m.\u001b[39mclose()\n",
      "File \u001b[0;32m~/anaconda3/lib/python3.8/site-packages/IPython/core/interactiveshell.py:284\u001b[0m, in \u001b[0;36m_modified_open\u001b[0;34m(file, *args, **kwargs)\u001b[0m\n\u001b[1;32m    277\u001b[0m \u001b[38;5;28;01mif\u001b[39;00m file \u001b[38;5;129;01min\u001b[39;00m {\u001b[38;5;241m0\u001b[39m, \u001b[38;5;241m1\u001b[39m, \u001b[38;5;241m2\u001b[39m}:\n\u001b[1;32m    278\u001b[0m     \u001b[38;5;28;01mraise\u001b[39;00m \u001b[38;5;167;01mValueError\u001b[39;00m(\n\u001b[1;32m    279\u001b[0m         \u001b[38;5;124mf\u001b[39m\u001b[38;5;124m\"\u001b[39m\u001b[38;5;124mIPython won\u001b[39m\u001b[38;5;124m'\u001b[39m\u001b[38;5;124mt let you open fd=\u001b[39m\u001b[38;5;132;01m{\u001b[39;00mfile\u001b[38;5;132;01m}\u001b[39;00m\u001b[38;5;124m by default \u001b[39m\u001b[38;5;124m\"\u001b[39m\n\u001b[1;32m    280\u001b[0m         \u001b[38;5;124m\"\u001b[39m\u001b[38;5;124mas it is likely to crash IPython. If you know what you are doing, \u001b[39m\u001b[38;5;124m\"\u001b[39m\n\u001b[1;32m    281\u001b[0m         \u001b[38;5;124m\"\u001b[39m\u001b[38;5;124myou can use builtins\u001b[39m\u001b[38;5;124m'\u001b[39m\u001b[38;5;124m open.\u001b[39m\u001b[38;5;124m\"\u001b[39m\n\u001b[1;32m    282\u001b[0m     )\n\u001b[0;32m--> 284\u001b[0m \u001b[38;5;28;01mreturn\u001b[39;00m \u001b[43mio_open\u001b[49m\u001b[43m(\u001b[49m\u001b[43mfile\u001b[49m\u001b[43m,\u001b[49m\u001b[43m \u001b[49m\u001b[38;5;241;43m*\u001b[39;49m\u001b[43margs\u001b[49m\u001b[43m,\u001b[49m\u001b[43m \u001b[49m\u001b[38;5;241;43m*\u001b[39;49m\u001b[38;5;241;43m*\u001b[39;49m\u001b[43mkwargs\u001b[49m\u001b[43m)\u001b[49m\n",
      "\u001b[0;31mFileNotFoundError\u001b[0m: [Errno 2] No such file or directory: 'gv_graphs/nxt0000.dot'"
     ]
    }
   ],
   "source": [
    "routers = init_routers()\n",
    "send_count_dv_init = distance_via_dv_eba(0,files=True)\n",
    "print(f\"total sent tables: {send_count_dv_init}\")"
   ]
  },
  {
   "cell_type": "code",
   "execution_count": null,
   "id": "5825a169-dbeb-48ec-bc36-b7d3f2647a4c",
   "metadata": {
    "tags": []
   },
   "outputs": [],
   "source": [
    "routers[0].print_adj_table()"
   ]
  },
  {
   "cell_type": "code",
   "execution_count": null,
   "id": "ae6740f7-407c-42c2-9900-2391e4acf085",
   "metadata": {
    "tags": []
   },
   "outputs": [],
   "source": [
    "change_adj(0,1,False)\n",
    "# g = adj_to_dgl(adj)\n",
    "# draw?"
   ]
  },
  {
   "cell_type": "code",
   "execution_count": null,
   "id": "b63cfff6-64ee-40e5-b954-6af50f0ff4bb",
   "metadata": {
    "tags": []
   },
   "outputs": [],
   "source": [
    "send_count_dv_adjust = distance_via_dv_eba(0,verbose=False)\n",
    "print(f\"total sent tables: {send_count_dv_adjust}\")"
   ]
  },
  {
   "cell_type": "code",
   "execution_count": null,
   "id": "cbcc2f58-b81d-4469-9aa0-63139d99b016",
   "metadata": {
    "tags": []
   },
   "outputs": [],
   "source": [
    "routers[0].print_adj_table()"
   ]
  },
  {
   "cell_type": "code",
   "execution_count": null,
   "id": "86eb91ff-429c-4171-8cef-ddae006a9182",
   "metadata": {
    "tags": []
   },
   "outputs": [],
   "source": [
    "print(f\"link state             send count: {send_count_ls}\")\n",
    "print(f\"distance vector        send count: {send_count_dv_init}\")\n",
    "print(f\"distance vector second send count: {send_count_dv_adjust}\")\n",
    "print()\n",
    "print()\n",
    "print(f\"memory footprint: {nvertices} tables per router\")"
   ]
  },
  {
   "cell_type": "code",
   "execution_count": null,
   "id": "1d3d81a4-aedf-4663-8565-8403fe5e6e72",
   "metadata": {},
   "outputs": [],
   "source": []
  }
 ],
 "metadata": {
  "kernelspec": {
   "display_name": "Python 3 (ipykernel)",
   "language": "python",
   "name": "python3"
  },
  "language_info": {
   "codemirror_mode": {
    "name": "ipython",
    "version": 3
   },
   "file_extension": ".py",
   "mimetype": "text/x-python",
   "name": "python",
   "nbconvert_exporter": "python",
   "pygments_lexer": "ipython3",
   "version": "3.8.19"
  }
 },
 "nbformat": 4,
 "nbformat_minor": 5
}
