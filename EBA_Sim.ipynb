{
 "cells": [
  {
   "cell_type": "code",
   "execution_count": 1,
   "id": "f54fb92d-1615-4a3b-aecf-70bfe4110599",
   "metadata": {},
   "outputs": [],
   "source": [
    "import EBA_Node\n",
    "import gv_utils"
   ]
  },
  {
   "cell_type": "code",
   "execution_count": 2,
   "id": "d7781b5e-8744-473b-8801-57c4e4134213",
   "metadata": {},
   "outputs": [],
   "source": [
    "manager = EBA_Node.EBA_Manager(manager_mode=\"init\")"
   ]
  },
  {
   "cell_type": "code",
   "execution_count": 3,
   "id": "05f1eaaf-0fb5-4670-a03c-02aab7354f9d",
   "metadata": {},
   "outputs": [],
   "source": [
    "newnodes = [\"zero\", \"one\", \"two\", \"three\"]"
   ]
  },
  {
   "cell_type": "code",
   "execution_count": 4,
   "id": "65c70d56-d641-47d6-9ea6-9cdfd79eefad",
   "metadata": {},
   "outputs": [],
   "source": [
    "for name in newnodes:\n",
    "    manager.new_node(name=name)"
   ]
  },
  {
   "cell_type": "code",
   "execution_count": 5,
   "id": "87192c5a-e9c6-49a0-885b-42a43c289e1d",
   "metadata": {},
   "outputs": [],
   "source": [
    "manager.connect(\"zero\", \"one\")\n",
    "manager.connect(\"zero\", \"two\")\n",
    "manager.connect(\"two\", \"three\")"
   ]
  },
  {
   "cell_type": "code",
   "execution_count": 6,
   "id": "cd5b2551-974c-426f-9482-8d503e07812c",
   "metadata": {},
   "outputs": [
    {
     "name": "stdout",
     "output_type": "stream",
     "text": [
      "manager of EBA nodes ['zero', 'one', 'two', 'three']\n",
      "\n",
      "    --------------------------------------------------\n",
      "    EBA Node zero\n",
      "    in state EBA_State.IDLE\n",
      "    neighbors: ['one', 'two']\n",
      "    buffers:\n",
      "        ------------------------------\n",
      "    waiting messages in queue:\n",
      "        ------------------------------\n",
      "    waiting for responses to:\n",
      "        ------------------------------\n",
      "\n",
      "    --------------------------------------------------\n",
      "    EBA Node one\n",
      "    in state EBA_State.IDLE\n",
      "    neighbors: ['zero']\n",
      "    buffers:\n",
      "        ------------------------------\n",
      "    waiting messages in queue:\n",
      "        ------------------------------\n",
      "    waiting for responses to:\n",
      "        ------------------------------\n",
      "\n",
      "    --------------------------------------------------\n",
      "    EBA Node two\n",
      "    in state EBA_State.IDLE\n",
      "    neighbors: ['zero', 'three']\n",
      "    buffers:\n",
      "        ------------------------------\n",
      "    waiting messages in queue:\n",
      "        ------------------------------\n",
      "    waiting for responses to:\n",
      "        ------------------------------\n",
      "\n",
      "    --------------------------------------------------\n",
      "    EBA Node three\n",
      "    in state EBA_State.IDLE\n",
      "    neighbors: ['two']\n",
      "    buffers:\n",
      "        ------------------------------\n",
      "    waiting messages in queue:\n",
      "        ------------------------------\n",
      "    waiting for responses to:\n",
      "        ------------------------------\n"
     ]
    }
   ],
   "source": [
    "manager.show()"
   ]
  },
  {
   "cell_type": "code",
   "execution_count": 7,
   "id": "465ad502-ecf3-4a61-90fc-21429ea5db4c",
   "metadata": {},
   "outputs": [],
   "source": [
    "nzero = manager.nodes[\"zero\"]"
   ]
  },
  {
   "cell_type": "code",
   "execution_count": 8,
   "id": "134c1de9-ca68-47f5-af11-cd8883891540",
   "metadata": {},
   "outputs": [],
   "source": [
    "nzero.request_buffer_from(\"one\", -1)"
   ]
  },
  {
   "cell_type": "code",
   "execution_count": 9,
   "id": "23419dc7-a718-4b4c-8492-769d128105ff",
   "metadata": {},
   "outputs": [
    {
     "name": "stdout",
     "output_type": "stream",
     "text": [
      "manager of EBA nodes ['zero', 'one', 'two', 'three']\n",
      "\n",
      "    --------------------------------------------------\n",
      "    EBA Node zero\n",
      "    in state EBA_State.IDLE\n",
      "    neighbors: ['one', 'two']\n",
      "    buffers:\n",
      "        ------------------------------\n",
      "    waiting messages in queue:\n",
      "        ------------------------------\n",
      "    waiting for responses to:\n",
      "        ------------------------------\n",
      "        message RID: zero0\n",
      "        message sender: zero\n",
      "        message target: one\n",
      "        message API: {'request': 'BUFREQ', 'response': None, 'space': -1}\n",
      "        ------------------------------\n",
      "\n",
      "    --------------------------------------------------\n",
      "    EBA Node one\n",
      "    in state EBA_State.IDLE\n",
      "    neighbors: ['zero']\n",
      "    buffers:\n",
      "        ------------------------------\n",
      "    waiting messages in queue:\n",
      "        ------------------------------\n",
      "        message RID: zero0\n",
      "        message sender: zero\n",
      "        message target: one\n",
      "        message API: {'request': 'BUFREQ', 'response': None, 'space': -1}\n",
      "        ------------------------------\n",
      "    waiting for responses to:\n",
      "        ------------------------------\n",
      "\n",
      "    --------------------------------------------------\n",
      "    EBA Node two\n",
      "    in state EBA_State.IDLE\n",
      "    neighbors: ['zero', 'three']\n",
      "    buffers:\n",
      "        ------------------------------\n",
      "    waiting messages in queue:\n",
      "        ------------------------------\n",
      "    waiting for responses to:\n",
      "        ------------------------------\n",
      "\n",
      "    --------------------------------------------------\n",
      "    EBA Node three\n",
      "    in state EBA_State.IDLE\n",
      "    neighbors: ['two']\n",
      "    buffers:\n",
      "        ------------------------------\n",
      "    waiting messages in queue:\n",
      "        ------------------------------\n",
      "    waiting for responses to:\n",
      "        ------------------------------\n"
     ]
    }
   ],
   "source": [
    "manager.show()"
   ]
  },
  {
   "cell_type": "code",
   "execution_count": 10,
   "id": "5e8602bf-757c-4b37-bc86-29a8c1294561",
   "metadata": {},
   "outputs": [],
   "source": [
    "manager.run()"
   ]
  },
  {
   "cell_type": "code",
   "execution_count": 11,
   "id": "6a8591ef-0487-4d4a-be27-44d7de225895",
   "metadata": {},
   "outputs": [
    {
     "name": "stdout",
     "output_type": "stream",
     "text": [
      "manager of EBA nodes ['zero', 'one', 'two', 'three']\n",
      "\n",
      "    --------------------------------------------------\n",
      "    EBA Node zero\n",
      "    in state EBA_State.IDLE\n",
      "    neighbors: ['one', 'two']\n",
      "    buffers:\n",
      "        ------------------------------\n",
      "        name: BUF_zero0\n",
      "        owner: one\n",
      "        for: zero\n",
      "        size: -1\n",
      "        ------------------------------\n",
      "    waiting messages in queue:\n",
      "        ------------------------------\n",
      "    waiting for responses to:\n",
      "        ------------------------------\n",
      "\n",
      "    --------------------------------------------------\n",
      "    EBA Node one\n",
      "    in state EBA_State.IDLE\n",
      "    neighbors: ['zero']\n",
      "    buffers:\n",
      "        ------------------------------\n",
      "        name: BUF_zero0\n",
      "        owner: one\n",
      "        for: zero\n",
      "        size: -1\n",
      "        ------------------------------\n",
      "    waiting messages in queue:\n",
      "        ------------------------------\n",
      "    waiting for responses to:\n",
      "        ------------------------------\n",
      "\n",
      "    --------------------------------------------------\n",
      "    EBA Node two\n",
      "    in state EBA_State.IDLE\n",
      "    neighbors: ['zero', 'three']\n",
      "    buffers:\n",
      "        ------------------------------\n",
      "    waiting messages in queue:\n",
      "        ------------------------------\n",
      "    waiting for responses to:\n",
      "        ------------------------------\n",
      "\n",
      "    --------------------------------------------------\n",
      "    EBA Node three\n",
      "    in state EBA_State.IDLE\n",
      "    neighbors: ['two']\n",
      "    buffers:\n",
      "        ------------------------------\n",
      "    waiting messages in queue:\n",
      "        ------------------------------\n",
      "    waiting for responses to:\n",
      "        ------------------------------\n"
     ]
    }
   ],
   "source": [
    "manager.show()"
   ]
  },
  {
   "cell_type": "code",
   "execution_count": 12,
   "id": "d9e75e97-e8a9-4dea-a46c-493c62bc5657",
   "metadata": {},
   "outputs": [],
   "source": [
    "manager.save()"
   ]
  },
  {
   "cell_type": "code",
   "execution_count": 13,
   "id": "b6a762ad-7cbb-4fc9-b061-adb6dedd30e5",
   "metadata": {},
   "outputs": [],
   "source": [
    "manager = EBA_Node.EBA_Manager(manager_mode=\"load\")"
   ]
  },
  {
   "cell_type": "code",
   "execution_count": 14,
   "id": "ff272f94-26af-47a2-b2a1-dda78c0931d8",
   "metadata": {},
   "outputs": [
    {
     "name": "stdout",
     "output_type": "stream",
     "text": [
      "manager of EBA nodes ['three', 'one', 'zero', 'two']\n",
      "\n",
      "    --------------------------------------------------\n",
      "    EBA Node three\n",
      "    in state EBA_State.IDLE\n",
      "    neighbors: ['two']\n",
      "    buffers:\n",
      "        ------------------------------\n",
      "    waiting messages in queue:\n",
      "        ------------------------------\n",
      "    waiting for responses to:\n",
      "        ------------------------------\n",
      "\n",
      "    --------------------------------------------------\n",
      "    EBA Node one\n",
      "    in state EBA_State.IDLE\n",
      "    neighbors: ['zero']\n",
      "    buffers:\n",
      "        ------------------------------\n",
      "        name: BUF_zero0\n",
      "        owner: one\n",
      "        for: zero\n",
      "        size: -1\n",
      "        ------------------------------\n",
      "    waiting messages in queue:\n",
      "        ------------------------------\n",
      "    waiting for responses to:\n",
      "        ------------------------------\n",
      "\n",
      "    --------------------------------------------------\n",
      "    EBA Node zero\n",
      "    in state EBA_State.IDLE\n",
      "    neighbors: ['one', 'two']\n",
      "    buffers:\n",
      "        ------------------------------\n",
      "        name: BUF_zero0\n",
      "        owner: one\n",
      "        for: zero\n",
      "        size: -1\n",
      "        ------------------------------\n",
      "    waiting messages in queue:\n",
      "        ------------------------------\n",
      "    waiting for responses to:\n",
      "        ------------------------------\n",
      "\n",
      "    --------------------------------------------------\n",
      "    EBA Node two\n",
      "    in state EBA_State.IDLE\n",
      "    neighbors: ['zero', 'three']\n",
      "    buffers:\n",
      "        ------------------------------\n",
      "    waiting messages in queue:\n",
      "        ------------------------------\n",
      "    waiting for responses to:\n",
      "        ------------------------------\n"
     ]
    }
   ],
   "source": [
    "manager.show()"
   ]
  },
  {
   "cell_type": "code",
   "execution_count": 15,
   "id": "829fa830-7f70-41bb-a565-e454a65acc91",
   "metadata": {},
   "outputs": [],
   "source": [
    "gv_utils.all_timeslice_to_files(manager.system_state, tdir=\"EBA_graphviz/testrun/\")"
   ]
  },
  {
   "cell_type": "code",
   "execution_count": 16,
   "id": "e30717f2-36c1-4944-8a8f-7b16ad860c63",
   "metadata": {},
   "outputs": [],
   "source": [
    "gv_utils.all_dot_to_png(tdir=\"EBA_graphviz/testrun/\")"
   ]
  },
  {
   "cell_type": "code",
   "execution_count": 17,
   "id": "33e74709-fd68-433a-8503-28d826de6163",
   "metadata": {},
   "outputs": [],
   "source": [
    "gv_utils.all_png_to_gif(tdir=\"EBA_graphviz/testrun/\")"
   ]
  },
  {
   "cell_type": "code",
   "execution_count": null,
   "id": "71b96bb6-cddd-4b08-a54b-e3b9e20bd9a3",
   "metadata": {},
   "outputs": [],
   "source": []
  }
 ],
 "metadata": {
  "kernelspec": {
   "display_name": "Python 3 (ipykernel)",
   "language": "python",
   "name": "python3"
  },
  "language_info": {
   "codemirror_mode": {
    "name": "ipython",
    "version": 3
   },
   "file_extension": ".py",
   "mimetype": "text/x-python",
   "name": "python",
   "nbconvert_exporter": "python",
   "pygments_lexer": "ipython3",
   "version": "3.8.19"
  }
 },
 "nbformat": 4,
 "nbformat_minor": 5
}
