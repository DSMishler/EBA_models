{
 "cells": [
  {
   "cell_type": "code",
   "execution_count": 1,
   "id": "f54fb92d-1615-4a3b-aecf-70bfe4110599",
   "metadata": {},
   "outputs": [],
   "source": [
    "import EBA_Node\n",
    "import gv_utils"
   ]
  },
  {
   "cell_type": "code",
   "execution_count": 2,
   "id": "d7781b5e-8744-473b-8801-57c4e4134213",
   "metadata": {},
   "outputs": [],
   "source": [
    "manager = EBA_Node.EBA_Manager(manager_mode=\"init\")"
   ]
  },
  {
   "cell_type": "code",
   "execution_count": 3,
   "id": "05f1eaaf-0fb5-4670-a03c-02aab7354f9d",
   "metadata": {},
   "outputs": [],
   "source": [
    "newnodes = [\"zero\", \"one\", \"two\", \"three\"]"
   ]
  },
  {
   "cell_type": "code",
   "execution_count": 4,
   "id": "65c70d56-d641-47d6-9ea6-9cdfd79eefad",
   "metadata": {},
   "outputs": [],
   "source": [
    "for name in newnodes:\n",
    "    manager.new_node(name=name)"
   ]
  },
  {
   "cell_type": "code",
   "execution_count": 5,
   "id": "87192c5a-e9c6-49a0-885b-42a43c289e1d",
   "metadata": {},
   "outputs": [],
   "source": [
    "manager.connect(\"zero\", \"one\")\n",
    "manager.connect(\"zero\", \"two\")\n",
    "manager.connect(\"two\", \"three\")"
   ]
  },
  {
   "cell_type": "code",
   "execution_count": 6,
   "id": "cd5b2551-974c-426f-9482-8d503e07812c",
   "metadata": {},
   "outputs": [
    {
     "name": "stdout",
     "output_type": "stream",
     "text": [
      "manager of EBA nodes ['zero', 'one', 'two', 'three']\n",
      "\n",
      "    --------------------------------------------------\n",
      "    EBA Node zero\n",
      "    in state EBA_State.IDLE\n",
      "    neighbors: ['one', 'two']\n",
      "    buffers (according to last known information by this node):\n",
      "        ------------------------------\n",
      "    waiting messages in queue:\n",
      "        ------------------------------\n",
      "    waiting for responses to:\n",
      "        ------------------------------\n",
      "    active processes:\n",
      "        ------------------------------\n",
      "\n",
      "    --------------------------------------------------\n",
      "    EBA Node one\n",
      "    in state EBA_State.IDLE\n",
      "    neighbors: ['zero']\n",
      "    buffers (according to last known information by this node):\n",
      "        ------------------------------\n",
      "    waiting messages in queue:\n",
      "        ------------------------------\n",
      "    waiting for responses to:\n",
      "        ------------------------------\n",
      "    active processes:\n",
      "        ------------------------------\n",
      "\n",
      "    --------------------------------------------------\n",
      "    EBA Node two\n",
      "    in state EBA_State.IDLE\n",
      "    neighbors: ['zero', 'three']\n",
      "    buffers (according to last known information by this node):\n",
      "        ------------------------------\n",
      "    waiting messages in queue:\n",
      "        ------------------------------\n",
      "    waiting for responses to:\n",
      "        ------------------------------\n",
      "    active processes:\n",
      "        ------------------------------\n",
      "\n",
      "    --------------------------------------------------\n",
      "    EBA Node three\n",
      "    in state EBA_State.IDLE\n",
      "    neighbors: ['two']\n",
      "    buffers (according to last known information by this node):\n",
      "        ------------------------------\n",
      "    waiting messages in queue:\n",
      "        ------------------------------\n",
      "    waiting for responses to:\n",
      "        ------------------------------\n",
      "    active processes:\n",
      "        ------------------------------\n"
     ]
    }
   ],
   "source": [
    "manager.show()"
   ]
  },
  {
   "cell_type": "code",
   "execution_count": 7,
   "id": "465ad502-ecf3-4a61-90fc-21429ea5db4c",
   "metadata": {},
   "outputs": [],
   "source": [
    "nzero = manager.nodes[\"zero\"]"
   ]
  },
  {
   "cell_type": "code",
   "execution_count": 8,
   "id": "134c1de9-ca68-47f5-af11-cd8883891540",
   "metadata": {},
   "outputs": [],
   "source": [
    "nzero.request_buffer_from(\"one\", -1, process=None)"
   ]
  },
  {
   "cell_type": "code",
   "execution_count": 9,
   "id": "23419dc7-a718-4b4c-8492-769d128105ff",
   "metadata": {},
   "outputs": [
    {
     "name": "stdout",
     "output_type": "stream",
     "text": [
      "manager of EBA nodes ['zero', 'one', 'two', 'three']\n",
      "\n",
      "    --------------------------------------------------\n",
      "    EBA Node zero\n",
      "    in state EBA_State.IDLE\n",
      "    neighbors: ['one', 'two']\n",
      "    buffers (according to last known information by this node):\n",
      "        ------------------------------\n",
      "    waiting messages in queue:\n",
      "        ------------------------------\n",
      "    waiting for responses to:\n",
      "        ------------------------------\n",
      "        message RID: zero0\n",
      "        message sender: zero\n",
      "        message target: one\n",
      "        message API: {'request': 'BUFREQ', 'response': None, 'space': -1}\n",
      "        message for process: None\n",
      "        ------------------------------\n",
      "    active processes:\n",
      "        ------------------------------\n",
      "\n",
      "    --------------------------------------------------\n",
      "    EBA Node one\n",
      "    in state EBA_State.IDLE\n",
      "    neighbors: ['zero']\n",
      "    buffers (according to last known information by this node):\n",
      "        ------------------------------\n",
      "    waiting messages in queue:\n",
      "        ------------------------------\n",
      "        message RID: zero0\n",
      "        message sender: zero\n",
      "        message target: one\n",
      "        message API: {'request': 'BUFREQ', 'response': None, 'space': -1}\n",
      "        message for process: None\n",
      "        ------------------------------\n",
      "    waiting for responses to:\n",
      "        ------------------------------\n",
      "    active processes:\n",
      "        ------------------------------\n",
      "\n",
      "    --------------------------------------------------\n",
      "    EBA Node two\n",
      "    in state EBA_State.IDLE\n",
      "    neighbors: ['zero', 'three']\n",
      "    buffers (according to last known information by this node):\n",
      "        ------------------------------\n",
      "    waiting messages in queue:\n",
      "        ------------------------------\n",
      "    waiting for responses to:\n",
      "        ------------------------------\n",
      "    active processes:\n",
      "        ------------------------------\n",
      "\n",
      "    --------------------------------------------------\n",
      "    EBA Node three\n",
      "    in state EBA_State.IDLE\n",
      "    neighbors: ['two']\n",
      "    buffers (according to last known information by this node):\n",
      "        ------------------------------\n",
      "    waiting messages in queue:\n",
      "        ------------------------------\n",
      "    waiting for responses to:\n",
      "        ------------------------------\n",
      "    active processes:\n",
      "        ------------------------------\n"
     ]
    }
   ],
   "source": [
    "manager.show()"
   ]
  },
  {
   "cell_type": "code",
   "execution_count": 10,
   "id": "5e8602bf-757c-4b37-bc86-29a8c1294561",
   "metadata": {},
   "outputs": [],
   "source": [
    "manager.run()"
   ]
  },
  {
   "cell_type": "code",
   "execution_count": 11,
   "id": "6a8591ef-0487-4d4a-be27-44d7de225895",
   "metadata": {},
   "outputs": [
    {
     "name": "stdout",
     "output_type": "stream",
     "text": [
      "manager of EBA nodes ['zero', 'one', 'two', 'three']\n",
      "\n",
      "    --------------------------------------------------\n",
      "    EBA Node zero\n",
      "    in state EBA_State.IDLE\n",
      "    neighbors: ['one', 'two']\n",
      "    buffers (according to last known information by this node):\n",
      "        ------------------------------\n",
      "        name: BUF_zero0\n",
      "        owner: one\n",
      "        for: zero\n",
      "        size: -1\n",
      "        ------------------------------\n",
      "    waiting messages in queue:\n",
      "        ------------------------------\n",
      "    waiting for responses to:\n",
      "        ------------------------------\n",
      "    active processes:\n",
      "        ------------------------------\n",
      "\n",
      "    --------------------------------------------------\n",
      "    EBA Node one\n",
      "    in state EBA_State.IDLE\n",
      "    neighbors: ['zero']\n",
      "    buffers (according to last known information by this node):\n",
      "        ------------------------------\n",
      "        name: BUF_zero0\n",
      "        owner: one\n",
      "        for: zero\n",
      "        size: -1\n",
      "        ------------------------------\n",
      "    waiting messages in queue:\n",
      "        ------------------------------\n",
      "    waiting for responses to:\n",
      "        ------------------------------\n",
      "    active processes:\n",
      "        ------------------------------\n",
      "\n",
      "    --------------------------------------------------\n",
      "    EBA Node two\n",
      "    in state EBA_State.IDLE\n",
      "    neighbors: ['zero', 'three']\n",
      "    buffers (according to last known information by this node):\n",
      "        ------------------------------\n",
      "    waiting messages in queue:\n",
      "        ------------------------------\n",
      "    waiting for responses to:\n",
      "        ------------------------------\n",
      "    active processes:\n",
      "        ------------------------------\n",
      "\n",
      "    --------------------------------------------------\n",
      "    EBA Node three\n",
      "    in state EBA_State.IDLE\n",
      "    neighbors: ['two']\n",
      "    buffers (according to last known information by this node):\n",
      "        ------------------------------\n",
      "    waiting messages in queue:\n",
      "        ------------------------------\n",
      "    waiting for responses to:\n",
      "        ------------------------------\n",
      "    active processes:\n",
      "        ------------------------------\n"
     ]
    }
   ],
   "source": [
    "manager.show()"
   ]
  },
  {
   "cell_type": "code",
   "execution_count": 12,
   "id": "77097239-b65c-4edf-ae41-e494cfb1caf3",
   "metadata": {},
   "outputs": [],
   "source": [
    "f = open(\"baby_proc.py\", \"r\")\n",
    "baby_proc_text = f.read()\n",
    "f.close()"
   ]
  },
  {
   "cell_type": "code",
   "execution_count": 13,
   "id": "ab0f28b5-3a34-4213-a1d2-2a4611b3e5f2",
   "metadata": {},
   "outputs": [],
   "source": [
    "payload = \"hello world!\"\n",
    "payload = baby_proc_text"
   ]
  },
  {
   "cell_type": "code",
   "execution_count": 14,
   "id": "d5b4f7f5-52f3-48a0-b413-6fd9aac765e2",
   "metadata": {},
   "outputs": [],
   "source": [
    "nzero.write_to_buffer(\"one\", \"BUF_zero0\", mode=\"START\", length = len(payload), payload=payload, process=None)"
   ]
  },
  {
   "cell_type": "code",
   "execution_count": 15,
   "id": "c7c48c75-c1f9-4cc5-90bb-3ff90b232488",
   "metadata": {},
   "outputs": [],
   "source": [
    "nzero.invoke_to_buffer(\"one\", \"BUF_zero0\", mode=\"PYEXEC\", process=None)"
   ]
  },
  {
   "cell_type": "code",
   "execution_count": 16,
   "id": "a92feb54-d35b-422e-9bf7-0fa23dd49da2",
   "metadata": {},
   "outputs": [],
   "source": [
    "n_one = manager.nodes[\"one\"]\n",
    "n_one.run_one()\n",
    "n_one.run_one()"
   ]
  },
  {
   "cell_type": "code",
   "execution_count": 17,
   "id": "8d4f031f-957e-4def-a37e-a56633eca2b4",
   "metadata": {},
   "outputs": [
    {
     "name": "stdout",
     "output_type": "stream",
     "text": [
      "manager of EBA nodes ['zero', 'one', 'two', 'three']\n",
      "\n",
      "    --------------------------------------------------\n",
      "    EBA Node zero\n",
      "    in state EBA_State.IDLE\n",
      "    neighbors: ['one', 'two']\n",
      "    buffers (according to last known information by this node):\n",
      "        ------------------------------\n",
      "        name: BUF_zero0\n",
      "        owner: one\n",
      "        for: zero\n",
      "        size: -1\n",
      "        ------------------------------\n",
      "    waiting messages in queue:\n",
      "        ------------------------------\n",
      "        message RID: zero1\n",
      "        message sender: one\n",
      "        message target: zero\n",
      "        message API: {'request': 'WRITE', 'response': 335}\n",
      "        message for process: None\n",
      "        ------------------------------\n",
      "        message RID: zero2\n",
      "        message sender: one\n",
      "        message target: zero\n",
      "        message API: {'request': 'INVOKE', 'response': True}\n",
      "        message for process: None\n",
      "        ------------------------------\n",
      "    waiting for responses to:\n",
      "        ------------------------------\n",
      "        message RID: zero1\n",
      "        message sender: zero\n",
      "        message target: one\n",
      "        message API: {'request': 'WRITE', 'response': None, 'target': 'BUF_zero0', 'mode': 'START', 'length': 335, 'payload': 'import sys\\nimport pickle\\n\\nassert len(sys.argv) == 2, f\"exactly two args allowed\"\\n\\npickup_fname = sys.argv[1]\\npf = open(pickup_fname, \"rb\")\\npickup_info = pickle.load(pf)\\npf.close\\n\\ndropoff_fname = pickup_info[\"dropoff\"]\\ndropoff_info = {\"message\": \"RAAAAAAAAHHHH\"}\\n\\npf = open(dropoff_fname, \"wb\")\\npickle.dump(dropoff_info, pf)\\npf.close()\\n'}\n",
      "        message for process: None\n",
      "        ------------------------------\n",
      "        message RID: zero2\n",
      "        message sender: zero\n",
      "        message target: one\n",
      "        message API: {'request': 'INVOKE', 'response': None, 'target': 'BUF_zero0', 'mode': 'PYEXEC'}\n",
      "        message for process: None\n",
      "        ------------------------------\n",
      "    active processes:\n",
      "        ------------------------------\n",
      "\n",
      "    --------------------------------------------------\n",
      "    EBA Node one\n",
      "    in state EBA_State.IDLE\n",
      "    neighbors: ['zero']\n",
      "    buffers (according to last known information by this node):\n",
      "        ------------------------------\n",
      "        name: BUF_zero0\n",
      "        owner: one\n",
      "        for: zero\n",
      "        size: -1\n",
      "        ------------------------------\n",
      "    waiting messages in queue:\n",
      "        ------------------------------\n",
      "    waiting for responses to:\n",
      "        ------------------------------\n",
      "    active processes:\n",
      "        ------------------------------\n",
      "        process name PROC_0\n",
      "        message that spawned process:\n",
      "            ------------------------------\n",
      "            message RID: zero2\n",
      "            message sender: zero\n",
      "            message target: one\n",
      "            message API: {'request': 'INVOKE', 'response': None, 'target': 'BUF_zero0', 'mode': 'PYEXEC'}\n",
      "            message for process: None\n",
      "            ------------------------------\n",
      "        in buffer: BUF_zero0\n",
      "        pickup fname: PROC_0.EBAPICKUP.pkl\n",
      "        dropoff fname: PROC_0.EBADROPOFF.pkl\n",
      "        last scheduled: 0\n",
      "        ------------------------------\n",
      "\n",
      "    --------------------------------------------------\n",
      "    EBA Node two\n",
      "    in state EBA_State.IDLE\n",
      "    neighbors: ['zero', 'three']\n",
      "    buffers (according to last known information by this node):\n",
      "        ------------------------------\n",
      "    waiting messages in queue:\n",
      "        ------------------------------\n",
      "    waiting for responses to:\n",
      "        ------------------------------\n",
      "    active processes:\n",
      "        ------------------------------\n",
      "\n",
      "    --------------------------------------------------\n",
      "    EBA Node three\n",
      "    in state EBA_State.IDLE\n",
      "    neighbors: ['two']\n",
      "    buffers (according to last known information by this node):\n",
      "        ------------------------------\n",
      "    waiting messages in queue:\n",
      "        ------------------------------\n",
      "    waiting for responses to:\n",
      "        ------------------------------\n",
      "    active processes:\n",
      "        ------------------------------\n"
     ]
    }
   ],
   "source": [
    "manager.show()"
   ]
  },
  {
   "cell_type": "code",
   "execution_count": 18,
   "id": "cb1e6d90-b063-4a51-a6a1-3e30459bb56b",
   "metadata": {},
   "outputs": [
    {
     "name": "stdout",
     "output_type": "stream",
     "text": [
      "Reading dropoff dict from process PROC_0\n",
      "{'message': 'RAAAAAAAAHHHH'}\n",
      "chose and popped process PROC_0\n",
      "{'name': 'PROC_0', 'message': {'sender': 'zero', 'recipient': 'one', 'RID': 'zero2', 'API': {'request': 'INVOKE', 'response': None, 'target': 'BUF_zero0', 'mode': 'PYEXEC'}, 'process': None}, 'bufname': 'BUF_zero0', 'pickup_fname': 'PROC_0.EBAPICKUP.pkl', 'dropoff_fname': 'PROC_0.EBADROPOFF.pkl', 'last_scheduled': 0}\n"
     ]
    }
   ],
   "source": [
    "manager.run()"
   ]
  },
  {
   "cell_type": "code",
   "execution_count": 19,
   "id": "bd395799-f1bb-4084-8d22-8e1f695fad18",
   "metadata": {},
   "outputs": [
    {
     "name": "stdout",
     "output_type": "stream",
     "text": [
      "manager of EBA nodes ['zero', 'one', 'two', 'three']\n",
      "\n",
      "    --------------------------------------------------\n",
      "    EBA Node zero\n",
      "    in state EBA_State.IDLE\n",
      "    neighbors: ['one', 'two']\n",
      "    buffers (according to last known information by this node):\n",
      "        ------------------------------\n",
      "        name: BUF_zero0\n",
      "        owner: one\n",
      "        for: zero\n",
      "        size: -1\n",
      "        ------------------------------\n",
      "    waiting messages in queue:\n",
      "        ------------------------------\n",
      "    waiting for responses to:\n",
      "        ------------------------------\n",
      "    active processes:\n",
      "        ------------------------------\n",
      "\n",
      "    --------------------------------------------------\n",
      "    EBA Node one\n",
      "    in state EBA_State.IDLE\n",
      "    neighbors: ['zero']\n",
      "    buffers (according to last known information by this node):\n",
      "        ------------------------------\n",
      "        name: BUF_zero0\n",
      "        owner: one\n",
      "        for: zero\n",
      "        size: -1\n",
      "        ------------------------------\n",
      "    waiting messages in queue:\n",
      "        ------------------------------\n",
      "    waiting for responses to:\n",
      "        ------------------------------\n",
      "    active processes:\n",
      "        ------------------------------\n",
      "\n",
      "    --------------------------------------------------\n",
      "    EBA Node two\n",
      "    in state EBA_State.IDLE\n",
      "    neighbors: ['zero', 'three']\n",
      "    buffers (according to last known information by this node):\n",
      "        ------------------------------\n",
      "    waiting messages in queue:\n",
      "        ------------------------------\n",
      "    waiting for responses to:\n",
      "        ------------------------------\n",
      "    active processes:\n",
      "        ------------------------------\n",
      "\n",
      "    --------------------------------------------------\n",
      "    EBA Node three\n",
      "    in state EBA_State.IDLE\n",
      "    neighbors: ['two']\n",
      "    buffers (according to last known information by this node):\n",
      "        ------------------------------\n",
      "    waiting messages in queue:\n",
      "        ------------------------------\n",
      "    waiting for responses to:\n",
      "        ------------------------------\n",
      "    active processes:\n",
      "        ------------------------------\n"
     ]
    }
   ],
   "source": [
    "manager.show()"
   ]
  },
  {
   "cell_type": "code",
   "execution_count": 20,
   "id": "d9e75e97-e8a9-4dea-a46c-493c62bc5657",
   "metadata": {},
   "outputs": [],
   "source": [
    "manager.save()"
   ]
  },
  {
   "cell_type": "code",
   "execution_count": 21,
   "id": "b6a762ad-7cbb-4fc9-b061-adb6dedd30e5",
   "metadata": {},
   "outputs": [],
   "source": [
    "manager = EBA_Node.EBA_Manager(manager_mode=\"load\")"
   ]
  },
  {
   "cell_type": "code",
   "execution_count": 22,
   "id": "ff272f94-26af-47a2-b2a1-dda78c0931d8",
   "metadata": {},
   "outputs": [
    {
     "name": "stdout",
     "output_type": "stream",
     "text": [
      "manager of EBA nodes ['three', 'one', 'zero', 'two']\n",
      "\n",
      "    --------------------------------------------------\n",
      "    EBA Node three\n",
      "    in state EBA_State.IDLE\n",
      "    neighbors: ['two']\n",
      "    buffers (according to last known information by this node):\n",
      "        ------------------------------\n",
      "    waiting messages in queue:\n",
      "        ------------------------------\n",
      "    waiting for responses to:\n",
      "        ------------------------------\n",
      "    active processes:\n",
      "        ------------------------------\n",
      "\n",
      "    --------------------------------------------------\n",
      "    EBA Node one\n",
      "    in state EBA_State.IDLE\n",
      "    neighbors: ['zero']\n",
      "    buffers (according to last known information by this node):\n",
      "        ------------------------------\n",
      "        name: BUF_zero0\n",
      "        owner: one\n",
      "        for: zero\n",
      "        size: -1\n",
      "        contents: import sys\n",
      "import pickle\n",
      "\n",
      "assert len(sys.argv) == 2, f\"exactly two args allowed\"\n",
      "\n",
      "pickup_fname = sys.argv[1]\n",
      "pf = open(pickup_fname, \"rb\")\n",
      "pickup_info = pickle.load(pf)\n",
      "pf.close\n",
      "\n",
      "dropoff_fname = pickup_info[\"dropoff\"]\n",
      "dropoff_info = {\"message\": \"RAAAAAAAAHHHH\"}\n",
      "\n",
      "pf = open(dropoff_fname, \"wb\")\n",
      "pickle.dump(dropoff_info, pf)\n",
      "pf.close()\n",
      "\n",
      "        ------------------------------\n",
      "    waiting messages in queue:\n",
      "        ------------------------------\n",
      "    waiting for responses to:\n",
      "        ------------------------------\n",
      "    active processes:\n",
      "        ------------------------------\n",
      "\n",
      "    --------------------------------------------------\n",
      "    EBA Node zero\n",
      "    in state EBA_State.IDLE\n",
      "    neighbors: ['one', 'two']\n",
      "    buffers (according to last known information by this node):\n",
      "        ------------------------------\n",
      "        name: BUF_zero0\n",
      "        owner: one\n",
      "        for: zero\n",
      "        size: -1\n",
      "        contents: None\n",
      "        ------------------------------\n",
      "    waiting messages in queue:\n",
      "        ------------------------------\n",
      "    waiting for responses to:\n",
      "        ------------------------------\n",
      "    active processes:\n",
      "        ------------------------------\n",
      "\n",
      "    --------------------------------------------------\n",
      "    EBA Node two\n",
      "    in state EBA_State.IDLE\n",
      "    neighbors: ['zero', 'three']\n",
      "    buffers (according to last known information by this node):\n",
      "        ------------------------------\n",
      "    waiting messages in queue:\n",
      "        ------------------------------\n",
      "    waiting for responses to:\n",
      "        ------------------------------\n",
      "    active processes:\n",
      "        ------------------------------\n"
     ]
    }
   ],
   "source": [
    "manager.show(show_buffer_contents=True)"
   ]
  },
  {
   "cell_type": "code",
   "execution_count": 23,
   "id": "829fa830-7f70-41bb-a565-e454a65acc91",
   "metadata": {},
   "outputs": [],
   "source": [
    "gv_utils.all_timeslice_to_files(manager.system_state, tdir=\"EBA_graphviz/testrun/\")"
   ]
  },
  {
   "cell_type": "code",
   "execution_count": 24,
   "id": "e30717f2-36c1-4944-8a8f-7b16ad860c63",
   "metadata": {},
   "outputs": [],
   "source": [
    "gv_utils.all_dot_to_png(tdir=\"EBA_graphviz/testrun/\")"
   ]
  },
  {
   "cell_type": "code",
   "execution_count": 25,
   "id": "33e74709-fd68-433a-8503-28d826de6163",
   "metadata": {},
   "outputs": [],
   "source": [
    "gv_utils.all_png_to_gif(tdir=\"EBA_graphviz/testrun/\")"
   ]
  },
  {
   "cell_type": "code",
   "execution_count": null,
   "id": "71b96bb6-cddd-4b08-a54b-e3b9e20bd9a3",
   "metadata": {},
   "outputs": [],
   "source": []
  }
 ],
 "metadata": {
  "kernelspec": {
   "display_name": "Python 3 (ipykernel)",
   "language": "python",
   "name": "python3"
  },
  "language_info": {
   "codemirror_mode": {
    "name": "ipython",
    "version": 3
   },
   "file_extension": ".py",
   "mimetype": "text/x-python",
   "name": "python",
   "nbconvert_exporter": "python",
   "pygments_lexer": "ipython3",
   "version": "3.8.19"
  }
 },
 "nbformat": 4,
 "nbformat_minor": 5
}
