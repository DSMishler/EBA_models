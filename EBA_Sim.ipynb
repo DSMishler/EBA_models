{
 "cells": [
  {
   "cell_type": "code",
   "execution_count": 1,
   "id": "f54fb92d-1615-4a3b-aecf-70bfe4110599",
   "metadata": {},
   "outputs": [],
   "source": [
    "import EBA_Node\n",
    "import gv_utils"
   ]
  },
  {
   "cell_type": "code",
   "execution_count": 2,
   "id": "d7781b5e-8744-473b-8801-57c4e4134213",
   "metadata": {},
   "outputs": [],
   "source": [
    "manager = EBA_Node.EBA_Manager(manager_mode=\"init\")"
   ]
  },
  {
   "cell_type": "code",
   "execution_count": 3,
   "id": "05f1eaaf-0fb5-4670-a03c-02aab7354f9d",
   "metadata": {},
   "outputs": [],
   "source": [
    "newnodes = [\"zero\", \"one\", \"two\", \"three\"]"
   ]
  },
  {
   "cell_type": "code",
   "execution_count": 4,
   "id": "65c70d56-d641-47d6-9ea6-9cdfd79eefad",
   "metadata": {},
   "outputs": [],
   "source": [
    "for name in newnodes:\n",
    "    manager.new_node(name=name)"
   ]
  },
  {
   "cell_type": "code",
   "execution_count": 5,
   "id": "87192c5a-e9c6-49a0-885b-42a43c289e1d",
   "metadata": {},
   "outputs": [],
   "source": [
    "manager.connect(\"zero\", \"one\")\n",
    "manager.connect(\"zero\", \"two\")\n",
    "manager.connect(\"two\", \"three\")"
   ]
  },
  {
   "cell_type": "code",
   "execution_count": 6,
   "id": "cd5b2551-974c-426f-9482-8d503e07812c",
   "metadata": {},
   "outputs": [
    {
     "name": "stdout",
     "output_type": "stream",
     "text": [
      "manager of EBA nodes ['zero', 'one', 'two', 'three']\n",
      "\n",
      "    --------------------------------------------------\n",
      "    EBA Node zero\n",
      "    in state EBA_State.IDLE\n",
      "    neighbors: ['one', 'two']\n",
      "    buffers (according to last known information by this node):\n",
      "        ------------------------------\n",
      "    waiting messages in queue:\n",
      "        ------------------------------\n",
      "    waiting for responses to:\n",
      "        ------------------------------\n",
      "    active processes:\n",
      "        ------------------------------\n",
      "\n",
      "    --------------------------------------------------\n",
      "    EBA Node one\n",
      "    in state EBA_State.IDLE\n",
      "    neighbors: ['zero']\n",
      "    buffers (according to last known information by this node):\n",
      "        ------------------------------\n",
      "    waiting messages in queue:\n",
      "        ------------------------------\n",
      "    waiting for responses to:\n",
      "        ------------------------------\n",
      "    active processes:\n",
      "        ------------------------------\n",
      "\n",
      "    --------------------------------------------------\n",
      "    EBA Node two\n",
      "    in state EBA_State.IDLE\n",
      "    neighbors: ['zero', 'three']\n",
      "    buffers (according to last known information by this node):\n",
      "        ------------------------------\n",
      "    waiting messages in queue:\n",
      "        ------------------------------\n",
      "    waiting for responses to:\n",
      "        ------------------------------\n",
      "    active processes:\n",
      "        ------------------------------\n",
      "\n",
      "    --------------------------------------------------\n",
      "    EBA Node three\n",
      "    in state EBA_State.IDLE\n",
      "    neighbors: ['two']\n",
      "    buffers (according to last known information by this node):\n",
      "        ------------------------------\n",
      "    waiting messages in queue:\n",
      "        ------------------------------\n",
      "    waiting for responses to:\n",
      "        ------------------------------\n",
      "    active processes:\n",
      "        ------------------------------\n"
     ]
    }
   ],
   "source": [
    "manager.show()"
   ]
  },
  {
   "cell_type": "code",
   "execution_count": 7,
   "id": "465ad502-ecf3-4a61-90fc-21429ea5db4c",
   "metadata": {},
   "outputs": [],
   "source": [
    "nzero = manager.nodes[\"zero\"]"
   ]
  },
  {
   "cell_type": "code",
   "execution_count": 8,
   "id": "134c1de9-ca68-47f5-af11-cd8883891540",
   "metadata": {},
   "outputs": [],
   "source": [
    "nzero.request_buffer_from(\"two\", -1, process=None)"
   ]
  },
  {
   "cell_type": "code",
   "execution_count": 9,
   "id": "23419dc7-a718-4b4c-8492-769d128105ff",
   "metadata": {},
   "outputs": [
    {
     "name": "stdout",
     "output_type": "stream",
     "text": [
      "manager of EBA nodes ['zero', 'one', 'two', 'three']\n",
      "\n",
      "    --------------------------------------------------\n",
      "    EBA Node zero\n",
      "    in state EBA_State.IDLE\n",
      "    neighbors: ['one', 'two']\n",
      "    buffers (according to last known information by this node):\n",
      "        ------------------------------\n",
      "    waiting messages in queue:\n",
      "        ------------------------------\n",
      "    waiting for responses to:\n",
      "        ------------------------------\n",
      "        message RID: zero0\n",
      "        message sender: zero\n",
      "        message target: two\n",
      "        message API: {'request': 'BUFREQ', 'response': None, 'space': -1}\n",
      "        message for process: None\n",
      "        ------------------------------\n",
      "    active processes:\n",
      "        ------------------------------\n",
      "\n",
      "    --------------------------------------------------\n",
      "    EBA Node one\n",
      "    in state EBA_State.IDLE\n",
      "    neighbors: ['zero']\n",
      "    buffers (according to last known information by this node):\n",
      "        ------------------------------\n",
      "    waiting messages in queue:\n",
      "        ------------------------------\n",
      "    waiting for responses to:\n",
      "        ------------------------------\n",
      "    active processes:\n",
      "        ------------------------------\n",
      "\n",
      "    --------------------------------------------------\n",
      "    EBA Node two\n",
      "    in state EBA_State.IDLE\n",
      "    neighbors: ['zero', 'three']\n",
      "    buffers (according to last known information by this node):\n",
      "        ------------------------------\n",
      "    waiting messages in queue:\n",
      "        ------------------------------\n",
      "        message RID: zero0\n",
      "        message sender: zero\n",
      "        message target: two\n",
      "        message API: {'request': 'BUFREQ', 'response': None, 'space': -1}\n",
      "        message for process: None\n",
      "        ------------------------------\n",
      "    waiting for responses to:\n",
      "        ------------------------------\n",
      "    active processes:\n",
      "        ------------------------------\n",
      "\n",
      "    --------------------------------------------------\n",
      "    EBA Node three\n",
      "    in state EBA_State.IDLE\n",
      "    neighbors: ['two']\n",
      "    buffers (according to last known information by this node):\n",
      "        ------------------------------\n",
      "    waiting messages in queue:\n",
      "        ------------------------------\n",
      "    waiting for responses to:\n",
      "        ------------------------------\n",
      "    active processes:\n",
      "        ------------------------------\n"
     ]
    }
   ],
   "source": [
    "manager.show()"
   ]
  },
  {
   "cell_type": "code",
   "execution_count": 10,
   "id": "5e8602bf-757c-4b37-bc86-29a8c1294561",
   "metadata": {},
   "outputs": [],
   "source": [
    "manager.run()"
   ]
  },
  {
   "cell_type": "code",
   "execution_count": 11,
   "id": "6a8591ef-0487-4d4a-be27-44d7de225895",
   "metadata": {},
   "outputs": [
    {
     "name": "stdout",
     "output_type": "stream",
     "text": [
      "manager of EBA nodes ['zero', 'one', 'two', 'three']\n",
      "\n",
      "    --------------------------------------------------\n",
      "    EBA Node zero\n",
      "    in state EBA_State.IDLE\n",
      "    neighbors: ['one', 'two']\n",
      "    buffers (according to last known information by this node):\n",
      "        ------------------------------\n",
      "        name: BUF_zero0\n",
      "        owner: two\n",
      "        for: zero\n",
      "        size: -1\n",
      "        ------------------------------\n",
      "    waiting messages in queue:\n",
      "        ------------------------------\n",
      "    waiting for responses to:\n",
      "        ------------------------------\n",
      "    active processes:\n",
      "        ------------------------------\n",
      "\n",
      "    --------------------------------------------------\n",
      "    EBA Node one\n",
      "    in state EBA_State.IDLE\n",
      "    neighbors: ['zero']\n",
      "    buffers (according to last known information by this node):\n",
      "        ------------------------------\n",
      "    waiting messages in queue:\n",
      "        ------------------------------\n",
      "    waiting for responses to:\n",
      "        ------------------------------\n",
      "    active processes:\n",
      "        ------------------------------\n",
      "\n",
      "    --------------------------------------------------\n",
      "    EBA Node two\n",
      "    in state EBA_State.IDLE\n",
      "    neighbors: ['zero', 'three']\n",
      "    buffers (according to last known information by this node):\n",
      "        ------------------------------\n",
      "        name: BUF_zero0\n",
      "        owner: two\n",
      "        for: zero\n",
      "        size: -1\n",
      "        ------------------------------\n",
      "    waiting messages in queue:\n",
      "        ------------------------------\n",
      "    waiting for responses to:\n",
      "        ------------------------------\n",
      "    active processes:\n",
      "        ------------------------------\n",
      "\n",
      "    --------------------------------------------------\n",
      "    EBA Node three\n",
      "    in state EBA_State.IDLE\n",
      "    neighbors: ['two']\n",
      "    buffers (according to last known information by this node):\n",
      "        ------------------------------\n",
      "    waiting messages in queue:\n",
      "        ------------------------------\n",
      "    waiting for responses to:\n",
      "        ------------------------------\n",
      "    active processes:\n",
      "        ------------------------------\n"
     ]
    }
   ],
   "source": [
    "manager.show()"
   ]
  },
  {
   "cell_type": "code",
   "execution_count": 12,
   "id": "77097239-b65c-4edf-ae41-e494cfb1caf3",
   "metadata": {},
   "outputs": [],
   "source": [
    "f = open(\"baby_proc.py\", \"r\")\n",
    "baby_proc_text = f.read()\n",
    "f.close()"
   ]
  },
  {
   "cell_type": "code",
   "execution_count": 13,
   "id": "ab0f28b5-3a34-4213-a1d2-2a4611b3e5f2",
   "metadata": {},
   "outputs": [],
   "source": [
    "payload = \"hello world!\"\n",
    "payload = baby_proc_text"
   ]
  },
  {
   "cell_type": "code",
   "execution_count": 14,
   "id": "d5b4f7f5-52f3-48a0-b413-6fd9aac765e2",
   "metadata": {},
   "outputs": [],
   "source": [
    "nzero.write_to_buffer(\"two\", \"BUF_zero0\", mode=\"START\", length = len(payload), payload=payload, process=None)"
   ]
  },
  {
   "cell_type": "code",
   "execution_count": 15,
   "id": "c7c48c75-c1f9-4cc5-90bb-3ff90b232488",
   "metadata": {},
   "outputs": [],
   "source": [
    "nzero.invoke_to_buffer(\"two\", \"BUF_zero0\", mode=\"PYEXEC\", process=None)"
   ]
  },
  {
   "cell_type": "code",
   "execution_count": 16,
   "id": "a92feb54-d35b-422e-9bf7-0fa23dd49da2",
   "metadata": {},
   "outputs": [],
   "source": [
    "ntwo = manager.nodes[\"two\"]\n",
    "ntwo.run_one()\n",
    "ntwo.run_one()"
   ]
  },
  {
   "cell_type": "code",
   "execution_count": 17,
   "id": "8d4f031f-957e-4def-a37e-a56633eca2b4",
   "metadata": {},
   "outputs": [
    {
     "name": "stdout",
     "output_type": "stream",
     "text": [
      "manager of EBA nodes ['zero', 'one', 'two', 'three']\n",
      "\n",
      "    --------------------------------------------------\n",
      "    EBA Node zero\n",
      "    in state EBA_State.IDLE\n",
      "    neighbors: ['one', 'two']\n",
      "    buffers (according to last known information by this node):\n",
      "        ------------------------------\n",
      "        name: BUF_zero0\n",
      "        owner: two\n",
      "        for: zero\n",
      "        size: -1\n",
      "        ------------------------------\n",
      "    waiting messages in queue:\n",
      "        ------------------------------\n",
      "        message RID: zero1\n",
      "        message sender: two\n",
      "        message target: zero\n",
      "        message API: {'request': 'WRITE', 'response': 995}\n",
      "        message for process: None\n",
      "        ------------------------------\n",
      "        message RID: zero2\n",
      "        message sender: two\n",
      "        message target: zero\n",
      "        message API: {'request': 'INVOKE', 'response': True}\n",
      "        message for process: None\n",
      "        ------------------------------\n",
      "    waiting for responses to:\n",
      "        ------------------------------\n",
      "        message RID: zero1\n",
      "        message sender: zero\n",
      "        message target: two\n",
      "        message API: {'request': 'WRITE', 'response': None, 'target': 'BUF_zero0', 'mode': 'START', 'length': 995, 'payload': 'import sys\\nimport pickle\\nimport EBA_PYAPI as EBA\\n\\n\\nEBA.init_PYAPI(sys.argv)\\n\\nproc_state = EBA.get_proc_state()\\nif proc_state == \"BEGIN\":\\n    # Then we do the initialization\\n    dropoff_info[\"message\"] = \"RAAAAAAAAHHHH\"\\n    EBA.set_proc_state(\"STATE2\")\\nelif proc_state == \"STATE2\":\\n    # Then terminate\\n    dropoff_info[\"message\"] = \"REEEEE\"\\n    EBA.set_proc_state(\"BUFREQTIME\")\\nelif proc_state == \"BUFREQTIME\":\\n    req_name = \"mybufreq\"\\n    if not EBA.have_requested_already(req_name):\\n        # Then make a request\\n        EBA.bufreq(\"three\", -1, req_name)\\n    if EBA.waiting_for_response(req_name):\\n        print(\"waiting for response in baby proc!\")\\n        pass\\n    else:\\n        print(\"got response in baby proc!\")\\n        print(EBA.pickup_info[\"responses\"][req_name])\\n        dropoff_info[\"message\"] = \"LETS GOOOO\"\\n        dropoff_info[\"terminate\"] = True\\n        EBA.set_proc_state(\"WEGOOD\")\\nelse:\\n    assert False, f\"unknown proc_state {proc_state}\"\\n\\nEBA.prep_dropoff_and_pickup_files()\\n'}\n",
      "        message for process: None\n",
      "        ------------------------------\n",
      "        message RID: zero2\n",
      "        message sender: zero\n",
      "        message target: two\n",
      "        message API: {'request': 'INVOKE', 'response': None, 'target': 'BUF_zero0', 'mode': 'PYEXEC'}\n",
      "        message for process: None\n",
      "        ------------------------------\n",
      "    active processes:\n",
      "        ------------------------------\n",
      "\n",
      "    --------------------------------------------------\n",
      "    EBA Node one\n",
      "    in state EBA_State.IDLE\n",
      "    neighbors: ['zero']\n",
      "    buffers (according to last known information by this node):\n",
      "        ------------------------------\n",
      "    waiting messages in queue:\n",
      "        ------------------------------\n",
      "    waiting for responses to:\n",
      "        ------------------------------\n",
      "    active processes:\n",
      "        ------------------------------\n",
      "\n",
      "    --------------------------------------------------\n",
      "    EBA Node two\n",
      "    in state EBA_State.IDLE\n",
      "    neighbors: ['zero', 'three']\n",
      "    buffers (according to last known information by this node):\n",
      "        ------------------------------\n",
      "        name: BUF_zero0\n",
      "        owner: two\n",
      "        for: zero\n",
      "        size: -1\n",
      "        ------------------------------\n",
      "    waiting messages in queue:\n",
      "        ------------------------------\n",
      "    waiting for responses to:\n",
      "        ------------------------------\n",
      "    active processes:\n",
      "        ------------------------------\n",
      "        process name PROC_0\n",
      "        message that spawned process:\n",
      "            ------------------------------\n",
      "            message RID: zero2\n",
      "            message sender: zero\n",
      "            message target: two\n",
      "            message API: {'request': 'INVOKE', 'response': None, 'target': 'BUF_zero0', 'mode': 'PYEXEC'}\n",
      "            message for process: None\n",
      "            ------------------------------\n",
      "        in buffer: BUF_zero0\n",
      "        last scheduled: 0\n",
      "        ------------------------------\n",
      "\n",
      "    --------------------------------------------------\n",
      "    EBA Node three\n",
      "    in state EBA_State.IDLE\n",
      "    neighbors: ['two']\n",
      "    buffers (according to last known information by this node):\n",
      "        ------------------------------\n",
      "    waiting messages in queue:\n",
      "        ------------------------------\n",
      "    waiting for responses to:\n",
      "        ------------------------------\n",
      "    active processes:\n",
      "        ------------------------------\n"
     ]
    }
   ],
   "source": [
    "manager.show()"
   ]
  },
  {
   "cell_type": "code",
   "execution_count": 18,
   "id": "cb1e6d90-b063-4a51-a6a1-3e30459bb56b",
   "metadata": {},
   "outputs": [
    {
     "name": "stderr",
     "output_type": "stream",
     "text": [
      "Traceback (most recent call last):\n",
      "  File \"nodebufdirs/two/BUF_zero0.py\", line 11, in <module>\n",
      "    dropoff_info[\"message\"] = \"RAAAAAAAAHHHH\"\n",
      "NameError: name 'dropoff_info' is not defined\n"
     ]
    },
    {
     "ename": "FileNotFoundError",
     "evalue": "[Errno 2] No such file or directory: 'nodebufdirs/two/PROC_0.EBADROPOFF.pkl'",
     "output_type": "error",
     "traceback": [
      "\u001b[0;31m---------------------------------------------------------------------------\u001b[0m",
      "\u001b[0;31mFileNotFoundError\u001b[0m                         Traceback (most recent call last)",
      "Cell \u001b[0;32mIn[18], line 1\u001b[0m\n\u001b[0;32m----> 1\u001b[0m \u001b[43mmanager\u001b[49m\u001b[38;5;241;43m.\u001b[39;49m\u001b[43mrun\u001b[49m\u001b[43m(\u001b[49m\u001b[43m)\u001b[49m\n",
      "File \u001b[0;32m~/Mishler_LL_work/Beck_EBA/EBA_models/EBA_Node.py:746\u001b[0m, in \u001b[0;36mEBA_Manager.run\u001b[0;34m(self, terminate_at)\u001b[0m\n\u001b[1;32m    744\u001b[0m \u001b[38;5;28;01mfor\u001b[39;00m random_node_name \u001b[38;5;129;01min\u001b[39;00m \u001b[38;5;28mself\u001b[39m\u001b[38;5;241m.\u001b[39mnodes: \u001b[38;5;66;03m# just do one at a time for now\u001b[39;00m\n\u001b[1;32m    745\u001b[0m     rn \u001b[38;5;241m=\u001b[39m \u001b[38;5;28mself\u001b[39m\u001b[38;5;241m.\u001b[39mnodes[random_node_name]\n\u001b[0;32m--> 746\u001b[0m     \u001b[43mrn\u001b[49m\u001b[38;5;241;43m.\u001b[39;49m\u001b[43mrun_one\u001b[49m\u001b[43m(\u001b[49m\u001b[43m)\u001b[49m\n\u001b[1;32m    747\u001b[0m     \u001b[38;5;66;03m# This is where we'd get extra data\u001b[39;00m\n\u001b[1;32m    748\u001b[0m     sys_state \u001b[38;5;241m=\u001b[39m {}\n",
      "File \u001b[0;32m~/Mishler_LL_work/Beck_EBA/EBA_models/EBA_Node.py:457\u001b[0m, in \u001b[0;36mEBA_Node.run_one\u001b[0;34m(self)\u001b[0m\n\u001b[1;32m    452\u001b[0m \u001b[38;5;28mself\u001b[39m\u001b[38;5;241m.\u001b[39mprocess_dict[chosen_proc][\u001b[38;5;124m\"\u001b[39m\u001b[38;5;124mlast_scheduled\u001b[39m\u001b[38;5;124m\"\u001b[39m] \u001b[38;5;241m=\u001b[39m \u001b[38;5;241m0\u001b[39m\n\u001b[1;32m    454\u001b[0m \u001b[38;5;66;03m# For now, we just say the process name and pop it.\u001b[39;00m\n\u001b[1;32m    455\u001b[0m \u001b[38;5;66;03m### print(f\"chose process {chosen_proc}\")\u001b[39;00m\n\u001b[1;32m    456\u001b[0m \u001b[38;5;66;03m### print(f\"{self.process_dict[chosen_proc]}\")\u001b[39;00m\n\u001b[0;32m--> 457\u001b[0m dropoff_dict \u001b[38;5;241m=\u001b[39m \u001b[38;5;28;43mself\u001b[39;49m\u001b[38;5;241;43m.\u001b[39;49m\u001b[43mmanager\u001b[49m\u001b[38;5;241;43m.\u001b[39;49m\u001b[43mrun_process\u001b[49m\u001b[43m(\u001b[49m\u001b[38;5;28;43mself\u001b[39;49m\u001b[43m,\u001b[49m\u001b[43m \u001b[49m\u001b[38;5;28;43mself\u001b[39;49m\u001b[38;5;241;43m.\u001b[39;49m\u001b[43mprocess_dict\u001b[49m\u001b[43m[\u001b[49m\u001b[43mchosen_proc\u001b[49m\u001b[43m]\u001b[49m\u001b[43m)\u001b[49m\n\u001b[1;32m    459\u001b[0m \u001b[38;5;66;03m### print(f\"Reading dropoff dict from process {chosen_proc}\")\u001b[39;00m\n\u001b[1;32m    460\u001b[0m \u001b[38;5;66;03m### print(dropoff_dict)\u001b[39;00m\n\u001b[1;32m    461\u001b[0m \u001b[38;5;28;01mif\u001b[39;00m dropoff_dict[\u001b[38;5;124m\"\u001b[39m\u001b[38;5;124mterminate\u001b[39m\u001b[38;5;124m\"\u001b[39m] \u001b[38;5;129;01mis\u001b[39;00m \u001b[38;5;28;01mTrue\u001b[39;00m:\n",
      "File \u001b[0;32m~/Mishler_LL_work/Beck_EBA/EBA_models/EBA_Node.py:711\u001b[0m, in \u001b[0;36mEBA_Manager.run_process\u001b[0;34m(self, host_node, process_info)\u001b[0m\n\u001b[1;32m    706\u001b[0m \u001b[38;5;66;03m# TODO: possibly different invocation on different systems\u001b[39;00m\n\u001b[1;32m    707\u001b[0m \u001b[38;5;66;03m### print(f\"running {full_process_fname}\")\u001b[39;00m\n\u001b[1;32m    708\u001b[0m subprocess\u001b[38;5;241m.\u001b[39mrun([\u001b[38;5;124mf\u001b[39m\u001b[38;5;124m\"\u001b[39m\u001b[38;5;124mpython3\u001b[39m\u001b[38;5;124m\"\u001b[39m, \u001b[38;5;124mf\u001b[39m\u001b[38;5;124m\"\u001b[39m\u001b[38;5;132;01m{\u001b[39;00mfull_process_fname\u001b[38;5;132;01m}\u001b[39;00m\u001b[38;5;124m\"\u001b[39m, \u001b[38;5;124mf\u001b[39m\u001b[38;5;124m\"\u001b[39m\u001b[38;5;132;01m{\u001b[39;00mfull_pickup_fname\u001b[38;5;132;01m}\u001b[39;00m\u001b[38;5;124m\"\u001b[39m])\n\u001b[0;32m--> 711\u001b[0m pf \u001b[38;5;241m=\u001b[39m \u001b[38;5;28;43mopen\u001b[39;49m\u001b[43m(\u001b[49m\u001b[43mfull_dropoff_fname\u001b[49m\u001b[43m,\u001b[49m\u001b[43m \u001b[49m\u001b[38;5;124;43m\"\u001b[39;49m\u001b[38;5;124;43mrb\u001b[39;49m\u001b[38;5;124;43m\"\u001b[39;49m\u001b[43m)\u001b[49m\n\u001b[1;32m    712\u001b[0m dropoff_dict \u001b[38;5;241m=\u001b[39m pickle\u001b[38;5;241m.\u001b[39mload(pf)\n\u001b[1;32m    713\u001b[0m pf\u001b[38;5;241m.\u001b[39mclose()\n",
      "\u001b[0;31mFileNotFoundError\u001b[0m: [Errno 2] No such file or directory: 'nodebufdirs/two/PROC_0.EBADROPOFF.pkl'"
     ]
    }
   ],
   "source": [
    "manager.run()"
   ]
  },
  {
   "cell_type": "code",
   "execution_count": null,
   "id": "bd395799-f1bb-4084-8d22-8e1f695fad18",
   "metadata": {},
   "outputs": [],
   "source": [
    "manager.show()"
   ]
  },
  {
   "cell_type": "code",
   "execution_count": null,
   "id": "d9e75e97-e8a9-4dea-a46c-493c62bc5657",
   "metadata": {},
   "outputs": [],
   "source": [
    "manager.save()"
   ]
  },
  {
   "cell_type": "code",
   "execution_count": null,
   "id": "4d9f4d36-d8cc-4f52-a169-cba9aaf3c366",
   "metadata": {},
   "outputs": [],
   "source": [
    "manage = EBA_Node.EBA_Manager(manager_mode=\"load\")"
   ]
  },
  {
   "cell_type": "code",
   "execution_count": null,
   "id": "ff272f94-26af-47a2-b2a1-dda78c0931d8",
   "metadata": {},
   "outputs": [],
   "source": [
    "manager.show(show_buffer_contents=True)"
   ]
  },
  {
   "cell_type": "code",
   "execution_count": null,
   "id": "829fa830-7f70-41bb-a565-e454a65acc91",
   "metadata": {},
   "outputs": [],
   "source": [
    "gv_utils.all_timeslice_to_files(manager.system_state, tdir=\"EBA_graphviz/testrun/\")"
   ]
  },
  {
   "cell_type": "code",
   "execution_count": null,
   "id": "e30717f2-36c1-4944-8a8f-7b16ad860c63",
   "metadata": {},
   "outputs": [],
   "source": [
    "gv_utils.all_dot_to_png(tdir=\"EBA_graphviz/testrun/\")"
   ]
  },
  {
   "cell_type": "code",
   "execution_count": null,
   "id": "33e74709-fd68-433a-8503-28d826de6163",
   "metadata": {},
   "outputs": [],
   "source": [
    "gv_utils.all_png_to_gif(tdir=\"EBA_graphviz/testrun/\")"
   ]
  },
  {
   "cell_type": "code",
   "execution_count": null,
   "id": "71b96bb6-cddd-4b08-a54b-e3b9e20bd9a3",
   "metadata": {},
   "outputs": [],
   "source": []
  }
 ],
 "metadata": {
  "kernelspec": {
   "display_name": "Python 3 (ipykernel)",
   "language": "python",
   "name": "python3"
  },
  "language_info": {
   "codemirror_mode": {
    "name": "ipython",
    "version": 3
   },
   "file_extension": ".py",
   "mimetype": "text/x-python",
   "name": "python",
   "nbconvert_exporter": "python",
   "pygments_lexer": "ipython3",
   "version": "3.8.19"
  }
 },
 "nbformat": 4,
 "nbformat_minor": 5
}
