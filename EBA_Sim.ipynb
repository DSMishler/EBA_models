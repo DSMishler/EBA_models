{
 "cells": [
  {
   "cell_type": "code",
   "execution_count": 1,
   "id": "f54fb92d-1615-4a3b-aecf-70bfe4110599",
   "metadata": {},
   "outputs": [
    {
     "ename": "SyntaxError",
     "evalue": "invalid syntax (EBA_Node.py, line 244)",
     "output_type": "error",
     "traceback": [
      "Traceback \u001b[0;36m(most recent call last)\u001b[0m:\n",
      "\u001b[0m  File \u001b[1;32m~/anaconda3/lib/python3.8/site-packages/IPython/core/interactiveshell.py:3508\u001b[0m in \u001b[1;35mrun_code\u001b[0m\n    exec(code_obj, self.user_global_ns, self.user_ns)\u001b[0m\n",
      "\u001b[0;36m  Cell \u001b[0;32mIn[1], line 1\u001b[0;36m\n\u001b[0;31m    import EBA_Node\u001b[0;36m\n",
      "\u001b[0;36m  File \u001b[0;32m~/Mishler_LL_work/Beck_EBA/EBA_models/EBA_Node.py:244\u001b[0;36m\u001b[0m\n\u001b[0;31m    assert length == len(payload), f\"lllegal request: payload {payload}\" +\u001b[0m\n\u001b[0m                                                                          ^\u001b[0m\n\u001b[0;31mSyntaxError\u001b[0m\u001b[0;31m:\u001b[0m invalid syntax\n"
     ]
    }
   ],
   "source": [
    "import EBA_Node\n",
    "import gv_utils"
   ]
  },
  {
   "cell_type": "code",
   "execution_count": null,
   "id": "d7781b5e-8744-473b-8801-57c4e4134213",
   "metadata": {},
   "outputs": [],
   "source": [
    "manager = EBA_Node.EBA_Manager(manager_mode=\"init\")"
   ]
  },
  {
   "cell_type": "code",
   "execution_count": null,
   "id": "05f1eaaf-0fb5-4670-a03c-02aab7354f9d",
   "metadata": {},
   "outputs": [],
   "source": [
    "newnodes = [\"zero\", \"one\", \"two\", \"three\"]"
   ]
  },
  {
   "cell_type": "code",
   "execution_count": null,
   "id": "65c70d56-d641-47d6-9ea6-9cdfd79eefad",
   "metadata": {},
   "outputs": [],
   "source": [
    "for name in newnodes:\n",
    "    manager.new_node(name=name)"
   ]
  },
  {
   "cell_type": "code",
   "execution_count": null,
   "id": "87192c5a-e9c6-49a0-885b-42a43c289e1d",
   "metadata": {},
   "outputs": [],
   "source": [
    "manager.connect(\"zero\", \"one\")\n",
    "manager.connect(\"zero\", \"two\")\n",
    "manager.connect(\"two\", \"three\")"
   ]
  },
  {
   "cell_type": "code",
   "execution_count": null,
   "id": "cd5b2551-974c-426f-9482-8d503e07812c",
   "metadata": {},
   "outputs": [],
   "source": [
    "manager.show()"
   ]
  },
  {
   "cell_type": "code",
   "execution_count": null,
   "id": "465ad502-ecf3-4a61-90fc-21429ea5db4c",
   "metadata": {},
   "outputs": [],
   "source": [
    "nzero = manager.nodes[\"zero\"]"
   ]
  },
  {
   "cell_type": "code",
   "execution_count": null,
   "id": "134c1de9-ca68-47f5-af11-cd8883891540",
   "metadata": {},
   "outputs": [],
   "source": [
    "nzero.request_buffer_from(\"one\", -1, process=None)"
   ]
  },
  {
   "cell_type": "code",
   "execution_count": null,
   "id": "23419dc7-a718-4b4c-8492-769d128105ff",
   "metadata": {},
   "outputs": [],
   "source": [
    "manager.show()"
   ]
  },
  {
   "cell_type": "code",
   "execution_count": null,
   "id": "5e8602bf-757c-4b37-bc86-29a8c1294561",
   "metadata": {},
   "outputs": [],
   "source": [
    "manager.run()"
   ]
  },
  {
   "cell_type": "code",
   "execution_count": null,
   "id": "6a8591ef-0487-4d4a-be27-44d7de225895",
   "metadata": {},
   "outputs": [],
   "source": [
    "manager.show()"
   ]
  },
  {
   "cell_type": "code",
   "execution_count": null,
   "id": "ab0f28b5-3a34-4213-a1d2-2a4611b3e5f2",
   "metadata": {},
   "outputs": [],
   "source": [
    "payload = \"hello world!\""
   ]
  },
  {
   "cell_type": "code",
   "execution_count": null,
   "id": "d5b4f7f5-52f3-48a0-b413-6fd9aac765e2",
   "metadata": {},
   "outputs": [],
   "source": [
    "nzero.write_to_buffer(\"one\", \"BUF_zero0\", mode=\"START\", length = len(payload)*2, payload=payload, process=None)"
   ]
  },
  {
   "cell_type": "code",
   "execution_count": null,
   "id": "cb1e6d90-b063-4a51-a6a1-3e30459bb56b",
   "metadata": {},
   "outputs": [],
   "source": [
    "manager.run()"
   ]
  },
  {
   "cell_type": "code",
   "execution_count": null,
   "id": "bd395799-f1bb-4084-8d22-8e1f695fad18",
   "metadata": {},
   "outputs": [],
   "source": [
    "manager.show()"
   ]
  },
  {
   "cell_type": "code",
   "execution_count": null,
   "id": "d9e75e97-e8a9-4dea-a46c-493c62bc5657",
   "metadata": {},
   "outputs": [],
   "source": [
    "manager.save()"
   ]
  },
  {
   "cell_type": "code",
   "execution_count": null,
   "id": "b6a762ad-7cbb-4fc9-b061-adb6dedd30e5",
   "metadata": {},
   "outputs": [],
   "source": [
    "manager = EBA_Node.EBA_Manager(manager_mode=\"load\")"
   ]
  },
  {
   "cell_type": "code",
   "execution_count": null,
   "id": "ff272f94-26af-47a2-b2a1-dda78c0931d8",
   "metadata": {},
   "outputs": [],
   "source": [
    "manager.show(show_buffer_contents=True)"
   ]
  },
  {
   "cell_type": "code",
   "execution_count": null,
   "id": "829fa830-7f70-41bb-a565-e454a65acc91",
   "metadata": {},
   "outputs": [],
   "source": [
    "gv_utils.all_timeslice_to_files(manager.system_state, tdir=\"EBA_graphviz/testrun/\")"
   ]
  },
  {
   "cell_type": "code",
   "execution_count": null,
   "id": "e30717f2-36c1-4944-8a8f-7b16ad860c63",
   "metadata": {},
   "outputs": [],
   "source": [
    "gv_utils.all_dot_to_png(tdir=\"EBA_graphviz/testrun/\")"
   ]
  },
  {
   "cell_type": "code",
   "execution_count": null,
   "id": "33e74709-fd68-433a-8503-28d826de6163",
   "metadata": {},
   "outputs": [],
   "source": [
    "gv_utils.all_png_to_gif(tdir=\"EBA_graphviz/testrun/\")"
   ]
  },
  {
   "cell_type": "code",
   "execution_count": null,
   "id": "71b96bb6-cddd-4b08-a54b-e3b9e20bd9a3",
   "metadata": {},
   "outputs": [],
   "source": []
  },
  {
   "cell_type": "code",
   "execution_count": null,
   "id": "c51260db-4baf-4173-9a8d-d363c3cbb2e2",
   "metadata": {},
   "outputs": [],
   "source": []
  }
 ],
 "metadata": {
  "kernelspec": {
   "display_name": "Python 3 (ipykernel)",
   "language": "python",
   "name": "python3"
  },
  "language_info": {
   "codemirror_mode": {
    "name": "ipython",
    "version": 3
   },
   "file_extension": ".py",
   "mimetype": "text/x-python",
   "name": "python",
   "nbconvert_exporter": "python",
   "pygments_lexer": "ipython3",
   "version": "3.8.19"
  }
 },
 "nbformat": 4,
 "nbformat_minor": 5
}
