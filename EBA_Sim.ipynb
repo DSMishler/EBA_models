{
 "cells": [
  {
   "cell_type": "code",
   "execution_count": 1,
   "id": "f54fb92d-1615-4a3b-aecf-70bfe4110599",
   "metadata": {},
   "outputs": [],
   "source": [
    "import EBA_Node"
   ]
  },
  {
   "cell_type": "code",
   "execution_count": 2,
   "id": "d7781b5e-8744-473b-8801-57c4e4134213",
   "metadata": {},
   "outputs": [],
   "source": [
    "manager = EBA_Node.EBA_Manager()"
   ]
  },
  {
   "cell_type": "code",
   "execution_count": 3,
   "id": "05f1eaaf-0fb5-4670-a03c-02aab7354f9d",
   "metadata": {},
   "outputs": [],
   "source": [
    "newnodes = [\"zero\", \"one\", \"two\"]"
   ]
  },
  {
   "cell_type": "code",
   "execution_count": 4,
   "id": "65c70d56-d641-47d6-9ea6-9cdfd79eefad",
   "metadata": {},
   "outputs": [],
   "source": [
    "for name in newnodes:\n",
    "    manager.new_node(name=name)"
   ]
  },
  {
   "cell_type": "code",
   "execution_count": 5,
   "id": "87192c5a-e9c6-49a0-885b-42a43c289e1d",
   "metadata": {},
   "outputs": [],
   "source": [
    "manager.connect(\"zero\", \"one\")"
   ]
  },
  {
   "cell_type": "code",
   "execution_count": 6,
   "id": "cd5b2551-974c-426f-9482-8d503e07812c",
   "metadata": {},
   "outputs": [
    {
     "name": "stdout",
     "output_type": "stream",
     "text": [
      "manager of EBA nodes ['zero', 'one', 'two']\n",
      "\n",
      "    EBA Node zero\n",
      "    in state EBA_State.IDLE\n",
      "    neighbors: ['one']\n",
      "    buffers:\n",
      "        -------\n",
      "\n",
      "    EBA Node one\n",
      "    in state EBA_State.IDLE\n",
      "    neighbors: ['zero']\n",
      "    buffers:\n",
      "        -------\n",
      "\n",
      "    EBA Node two\n",
      "    in state EBA_State.IDLE\n",
      "    neighbors: []\n",
      "    buffers:\n",
      "        -------\n"
     ]
    }
   ],
   "source": [
    "manager.show()"
   ]
  },
  {
   "cell_type": "code",
   "execution_count": 7,
   "id": "465ad502-ecf3-4a61-90fc-21429ea5db4c",
   "metadata": {},
   "outputs": [],
   "source": [
    "nzero = manager.nodes[\"zero\"]"
   ]
  },
  {
   "cell_type": "code",
   "execution_count": 8,
   "id": "134c1de9-ca68-47f5-af11-cd8883891540",
   "metadata": {},
   "outputs": [],
   "source": [
    "nzero.request_buffer_from(\"one\", -1)"
   ]
  },
  {
   "cell_type": "code",
   "execution_count": 9,
   "id": "23419dc7-a718-4b4c-8492-769d128105ff",
   "metadata": {},
   "outputs": [
    {
     "name": "stdout",
     "output_type": "stream",
     "text": [
      "manager of EBA nodes ['zero', 'one', 'two']\n",
      "\n",
      "    EBA Node zero\n",
      "    in state EBA_State.IDLE\n",
      "    neighbors: ['one']\n",
      "    buffers:\n",
      "        -------\n",
      "\n",
      "    EBA Node one\n",
      "    in state EBA_State.IDLE\n",
      "    neighbors: ['zero']\n",
      "    buffers:\n",
      "        -------\n",
      "\n",
      "    EBA Node two\n",
      "    in state EBA_State.IDLE\n",
      "    neighbors: []\n",
      "    buffers:\n",
      "        -------\n"
     ]
    }
   ],
   "source": [
    "manager.show()"
   ]
  },
  {
   "cell_type": "code",
   "execution_count": 10,
   "id": "5e8602bf-757c-4b37-bc86-29a8c1294561",
   "metadata": {},
   "outputs": [
    {
     "name": "stdout",
     "output_type": "stream",
     "text": [
      "zero received:\n",
      "{'sender': 'one', 'recipient': 'zero', 'RID': 'zero0', 'API': {'call': None, 'response': 'ACK', 'request': 'BUFREQ', 'name': 'zero_zero0', 'size': -1}}\n",
      "you need to implement code to resolve messages.\n"
     ]
    }
   ],
   "source": [
    "manager.run()"
   ]
  },
  {
   "cell_type": "code",
   "execution_count": 11,
   "id": "6a8591ef-0487-4d4a-be27-44d7de225895",
   "metadata": {},
   "outputs": [
    {
     "name": "stdout",
     "output_type": "stream",
     "text": [
      "manager of EBA nodes ['zero', 'one', 'two']\n",
      "\n",
      "    EBA Node zero\n",
      "    in state EBA_State.IDLE\n",
      "    neighbors: ['one']\n",
      "    buffers:\n",
      "        -------\n",
      "\n",
      "    EBA Node one\n",
      "    in state EBA_State.IDLE\n",
      "    neighbors: ['zero']\n",
      "    buffers:\n",
      "        -------\n",
      "        name: zero_zero0\n",
      "        owner: one\n",
      "        for: zero\n",
      "        size: -1\n",
      "        -------\n",
      "\n",
      "    EBA Node two\n",
      "    in state EBA_State.IDLE\n",
      "    neighbors: []\n",
      "    buffers:\n",
      "        -------\n"
     ]
    }
   ],
   "source": [
    "manager.show()"
   ]
  },
  {
   "cell_type": "code",
   "execution_count": 12,
   "id": "bcb3dfe1-6647-4e4c-a0ec-3af0e963574a",
   "metadata": {},
   "outputs": [],
   "source": [
    "import numpy as np"
   ]
  },
  {
   "cell_type": "code",
   "execution_count": null,
   "id": "56acb889-dcb9-4d56-96ab-5749c1b4004b",
   "metadata": {},
   "outputs": [],
   "source": []
  }
 ],
 "metadata": {
  "kernelspec": {
   "display_name": "Python 3 (ipykernel)",
   "language": "python",
   "name": "python3"
  },
  "language_info": {
   "codemirror_mode": {
    "name": "ipython",
    "version": 3
   },
   "file_extension": ".py",
   "mimetype": "text/x-python",
   "name": "python",
   "nbconvert_exporter": "python",
   "pygments_lexer": "ipython3",
   "version": "3.8.19"
  }
 },
 "nbformat": 4,
 "nbformat_minor": 5
}
