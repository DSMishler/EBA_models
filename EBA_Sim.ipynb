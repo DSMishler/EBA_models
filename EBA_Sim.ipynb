{
 "cells": [
  {
   "cell_type": "code",
   "execution_count": 1,
   "id": "f54fb92d-1615-4a3b-aecf-70bfe4110599",
   "metadata": {},
   "outputs": [],
   "source": [
    "import EBA_Node"
   ]
  },
  {
   "cell_type": "code",
   "execution_count": 2,
   "id": "d7781b5e-8744-473b-8801-57c4e4134213",
   "metadata": {},
   "outputs": [],
   "source": [
    "manager = EBA_Node.EBA_Manager()"
   ]
  },
  {
   "cell_type": "code",
   "execution_count": 3,
   "id": "05f1eaaf-0fb5-4670-a03c-02aab7354f9d",
   "metadata": {},
   "outputs": [],
   "source": [
    "newnodes = [\"zero\", \"one\"]"
   ]
  },
  {
   "cell_type": "code",
   "execution_count": 4,
   "id": "65c70d56-d641-47d6-9ea6-9cdfd79eefad",
   "metadata": {},
   "outputs": [],
   "source": [
    "for name in newnodes:\n",
    "    manager.new_node(name=name)"
   ]
  },
  {
   "cell_type": "code",
   "execution_count": 5,
   "id": "87192c5a-e9c6-49a0-885b-42a43c289e1d",
   "metadata": {},
   "outputs": [],
   "source": [
    "manager.connect(\"zero\", \"one\")"
   ]
  },
  {
   "cell_type": "code",
   "execution_count": 6,
   "id": "cd5b2551-974c-426f-9482-8d503e07812c",
   "metadata": {},
   "outputs": [
    {
     "name": "stdout",
     "output_type": "stream",
     "text": [
      "manager of EBA nodes ['zero', 'one']\n",
      "\n",
      "    EBA Node zero\n",
      "    in state EBA_State.IDLE\n",
      "    neighbors: ['one']\n",
      "\n",
      "    EBA Node one\n",
      "    in state EBA_State.IDLE\n",
      "    neighbors: ['zero']\n"
     ]
    }
   ],
   "source": [
    "manager.show()"
   ]
  },
  {
   "cell_type": "code",
   "execution_count": null,
   "id": "e73a80e0-a542-4eb4-a0c1-57e891195a28",
   "metadata": {},
   "outputs": [],
   "source": []
  }
 ],
 "metadata": {
  "kernelspec": {
   "display_name": "Python 3 (ipykernel)",
   "language": "python",
   "name": "python3"
  },
  "language_info": {
   "codemirror_mode": {
    "name": "ipython",
    "version": 3
   },
   "file_extension": ".py",
   "mimetype": "text/x-python",
   "name": "python",
   "nbconvert_exporter": "python",
   "pygments_lexer": "ipython3",
   "version": "3.8.19"
  }
 },
 "nbformat": 4,
 "nbformat_minor": 5
}
