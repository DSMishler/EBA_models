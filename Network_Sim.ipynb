{
 "cells": [
  {
   "cell_type": "markdown",
   "id": "c9041b79-f91e-42e8-b89b-52718669b755",
   "metadata": {
    "tags": []
   },
   "source": [
    "# Network Simulation\n",
    "## Daniel Mishler\n",
    "### Network simulation to consider combining networking algorithms for distance"
   ]
  },
  {
   "cell_type": "markdown",
   "id": "b54203f8-e26b-4b21-bebe-1f815e5eff5f",
   "metadata": {},
   "source": [
    "## Todos\n",
    "- Find a way to determine how much memory is occupied in each router"
   ]
  },
  {
   "cell_type": "code",
   "execution_count": null,
   "id": "742f2e14-bc63-4d4b-ab2c-4ce996936150",
   "metadata": {
    "tags": []
   },
   "outputs": [],
   "source": [
    "import numpy as np\n",
    "import networkx as nx\n",
    "\n",
    "import random\n",
    "import dgl\n",
    "\n",
    "import sys # for getsizeof"
   ]
  },
  {
   "cell_type": "code",
   "execution_count": null,
   "id": "90618731-1aa8-489b-a509-a03580031c02",
   "metadata": {},
   "outputs": [],
   "source": [
    "def random_adj(nvertices, nedges):\n",
    "    # Returns adjacency matrix\n",
    "    max_nedges = (nvertices*(nvertices-1))//2\n",
    "    if nedges > max_nedges:\n",
    "        print(f\"error: too many edges added. maximum is {max_nedges} for {nvertices} vertices\")\n",
    "        return None\n",
    "    \n",
    "    adj = [[0 for i in range(nvertices)] for j in range(nvertices)]\n",
    "    \n",
    "    for e in range(nedges):\n",
    "        edge_valid = False\n",
    "        while edge_valid is False:\n",
    "            rand = random.randint(0, nvertices*nvertices-1)\n",
    "            which_row = rand // nvertices\n",
    "            which_col = rand % nvertices\n",
    "            if (which_row != which_col) and adj[which_row][which_col] == 0:\n",
    "                edge_valid = True\n",
    "        adj[which_row][which_col] = 1\n",
    "        adj[which_col][which_row] = 1\n",
    "    \n",
    "    return adj\n",
    "def matrix_to_dgl_lists(adj):\n",
    "    from_list = []\n",
    "    to_list = []\n",
    "    i =  0\n",
    "    nvertices = len(adj)\n",
    "    while i < nvertices:\n",
    "        j = i+1\n",
    "        while j < nvertices:\n",
    "            if adj[i][j] == 1:\n",
    "                from_list.append(i)\n",
    "                to_list.append(j)\n",
    "                \n",
    "                # remove this and there's probably a way to go directed here.\n",
    "                to_list.append(i)\n",
    "                from_list.append(j)\n",
    "            j += 1\n",
    "        i += 1\n",
    "    \n",
    "    return from_list, to_list"
   ]
  },
  {
   "cell_type": "code",
   "execution_count": null,
   "id": "bd7bf83f-d30c-4535-9a81-c6ee077b28fd",
   "metadata": {
    "tags": []
   },
   "outputs": [],
   "source": [
    "alphabet = ['A', 'B', 'C', 'D', 'E', 'F', 'G', 'H', 'I', 'J', 'K', 'L', 'M', 'N', 'O', 'P']"
   ]
  },
  {
   "cell_type": "code",
   "execution_count": null,
   "id": "716add34-85bd-4972-8175-d2964613a9f0",
   "metadata": {
    "tags": []
   },
   "outputs": [],
   "source": [
    "import math"
   ]
  },
  {
   "cell_type": "code",
   "execution_count": null,
   "id": "4fee0810-8166-42b4-b37d-7d3f545044ec",
   "metadata": {
    "tags": []
   },
   "outputs": [],
   "source": [
    "math.sin(math.pi)"
   ]
  },
  {
   "cell_type": "code",
   "execution_count": null,
   "id": "cc3a2c77-afa3-43f2-b654-de066d5f7273",
   "metadata": {
    "tags": []
   },
   "outputs": [],
   "source": [
    "def adj_to_dgl(adj):\n",
    "    from_list, to_list = matrix_to_dgl_lists(adj)\n",
    "    g = dgl.graph((from_list, to_list))\n",
    "    return g\n",
    "def get_g_pos(g, layout=None):\n",
    "    G = g.to_networkx()\n",
    "    if layout == \"circle\":\n",
    "        pos = nx.circular_layout(G)\n",
    "    elif layout == \"random\":\n",
    "        pos = nx.random_layout(G)\n",
    "    elif layout == \"planar\":\n",
    "        pos = nx.random_layout(G)\n",
    "    elif layout == \"kk\":\n",
    "        pos = nx.kamada_kawai_layout(G)\n",
    "    else:\n",
    "        pos = None\n",
    "    return pos\n",
    "def draw_g(g, pos=None, layout=None):\n",
    "    if pos is None:\n",
    "        pos = get_g_pos(g,layout)\n",
    "    \n",
    "    G = g.to_networkx()\n",
    "    nx.draw_networkx(G, pos)"
   ]
  },
  {
   "cell_type": "code",
   "execution_count": null,
   "id": "3f273319-25e0-4074-a8c5-d9702e8cffa5",
   "metadata": {
    "tags": []
   },
   "outputs": [],
   "source": [
    "nvertices = 20\n",
    "nedges = 50\n",
    "MAX_DISTANCE = 20\n",
    "\n",
    "adj = random_adj(nvertices,nedges)\n",
    "\n",
    "g = adj_to_dgl(adj)\n",
    "pos = get_g_pos(g, layout=\"kk\")\n",
    "draw_g(g, pos=pos)"
   ]
  },
  {
   "cell_type": "code",
   "execution_count": null,
   "id": "64754b02-4373-41b7-93e1-3ff1c5883fd3",
   "metadata": {
    "tags": []
   },
   "outputs": [],
   "source": [
    "def empty_routing_dict():\n",
    "    return {\"distance\": MAX_DISTANCE, \"first_hop\": -1}\n",
    "def empty_routing_table():\n",
    "    return [empty_routing_dict() for i in range(nvertices)]"
   ]
  },
  {
   "cell_type": "code",
   "execution_count": null,
   "id": "2c45dc41-88c1-40c2-9428-1cad246bf838",
   "metadata": {
    "tags": []
   },
   "outputs": [],
   "source": [
    "class Router:\n",
    "    def __init__(self, my_number, neighbors):\n",
    "        self.my_number = my_number\n",
    "        self.neighbors = neighbors\n",
    "        self.table_queue = []\n",
    "        self.routing_table = empty_routing_table()\n",
    "        self.init_routing_table()\n",
    "        self.all_tables = {} # for link state\n",
    "        self.reconstructed_adj = None\n",
    "        self.router_list = None # will be populated later\n",
    "        self.table_sends = 0\n",
    "        self.functions = {}\n",
    "    def init_routing_table(self):\n",
    "        self.routing_table = empty_routing_table()\n",
    "        self.routing_table[self.my_number][\"distance\"] = 0\n",
    "        for neighbor in self.neighbors:\n",
    "            self.routing_table[neighbor][\"distance\"] = 1\n",
    "            self.routing_table[neighbor][\"first_hop\"] = neighbor\n",
    "    def print_adj_table(self):\n",
    "        print(\"target | distance | first hop\")\n",
    "        print(\"-------|----------|----------\")\n",
    "        for i in range(nvertices):\n",
    "            print(f\"{i:>6} | {self.routing_table[i][\"distance\"]:>8} | {self.routing_table[i][\"first_hop\"]:>7}\")\n",
    "    \n",
    "    \n",
    "    ### Distance Vector functions\n",
    "    # For local, proper version\n",
    "    def update_routing_table(self, verbose=False):\n",
    "        # Take the first element of the queue of tables and update self table\n",
    "        in_table = self.table_queue[0][\"table\"]\n",
    "        in_sender = self.table_queue[0][\"sender\"]\n",
    "        response_req = self.table_queue[0][\"response\"]\n",
    "        \n",
    "        table_changed = False\n",
    "        # Check to make sure my paths still exist\n",
    "        for i in range(nvertices):\n",
    "            if self.routing_table[i][\"first_hop\"] == in_sender:\n",
    "                # Then the my path length needs to be exactly theirs, plus one.\n",
    "                if self.routing_table[i][\"distance\"] < in_table[i][\"distance\"]+1:\n",
    "                    self.routing_table[i][\"distance\"] = in_table[i][\"distance\"]+1\n",
    "                    table_changed=True\n",
    "        \n",
    "        # Grab faster paths from the table\n",
    "        for i in range(nvertices):\n",
    "            if in_table[i][\"distance\"]+1 < self.routing_table[i][\"distance\"]:\n",
    "                # if this new table offers a faster route\n",
    "                self.routing_table[i][\"distance\"] = in_table[i][\"distance\"]+1\n",
    "                self.routing_table[i][\"first_hop\"] = in_sender\n",
    "                # then the new fastest route is sent that direction\n",
    "                table_changed = True\n",
    "        \n",
    "        if verbose:\n",
    "            print(f\"router {self.my_number} processed table from {in_sender}\")\n",
    "        if table_changed:\n",
    "            if verbose:\n",
    "                print(\"yes, changed table. Sending out to all neighbors.\")\n",
    "                self.print_adj_table()\n",
    "                print()\n",
    "                print()\n",
    "            self.send_request_to_neighbors()\n",
    "        elif response_req: # We didn't change our table, but the sender wanted a response\n",
    "            if verbose:\n",
    "                print(\"no, did not change table, but sending back per request\")\n",
    "            self.send_request_back(in_sender)\n",
    "        else:\n",
    "            if verbose:\n",
    "                print(f\"No need for more action.\")\n",
    "            pass\n",
    "        \n",
    "        self.table_queue = self.table_queue[1:] # pop from the queue\n",
    "        return table_changed\n",
    "    def send_request_to_neighbors(self):\n",
    "        request_dict = {}\n",
    "        request_dict[\"table\"] = self.routing_table\n",
    "        request_dict[\"response\"] = True\n",
    "        request_dict[\"sender\"] = self.my_number\n",
    "        for neighbor in self.neighbors:\n",
    "            self.router_list[neighbor].table_queue.append(request_dict)\n",
    "            self.table_sends += 1\n",
    "        return\n",
    "    def send_request_back(self, target):\n",
    "        request_dict = {}\n",
    "        request_dict[\"table\"] = self.routing_table\n",
    "        request_dict[\"response\"] = False\n",
    "        request_dict[\"sender\"] = self.my_number\n",
    "        self.router_list[target].table_queue.append(request_dict)\n",
    "        self.table_sends += 1\n",
    "        return\n",
    "    def clear_table_queue(self):\n",
    "        table_changed = False\n",
    "        while len(self.table_queue) > 0:\n",
    "            table_changed = self.update_routing_table()\n",
    "        return table_changed\n",
    "    \n",
    "    ### Link State functions\n",
    "    def init_dfw(self):\n",
    "        self.all_tables[self.my_number] = {}\n",
    "        self.all_tables[self.my_number]['seen_by'] = [False for i in range(nvertices)]\n",
    "        self.all_tables[self.my_number]['seen_by'][self.my_number] = True\n",
    "        self.all_tables[self.my_number]['sent_by'] = self.my_number\n",
    "        self.all_tables[self.my_number]['sender_waiting'] = True\n",
    "        self.all_tables[self.my_number]['self_waiting'] = False\n",
    "        self.all_tables[self.my_number]['table'] = self.routing_table\n",
    "    def tables_to_forward(self):\n",
    "        for key in self.all_tables:\n",
    "            if self.all_tables[key]['sender_waiting'] == True:\n",
    "                return True\n",
    "        return False\n",
    "    def send_tables_dfw(self, verbose=False):\n",
    "        for key in self.all_tables:\n",
    "            if self.all_tables[key]['sender_waiting'] == True:\n",
    "                if self.all_tables[key]['self_waiting'] == False:\n",
    "                    for neighbor in self.neighbors:\n",
    "                        if self.all_tables[key]['seen_by'][neighbor] == False:\n",
    "                            table_copy = {}\n",
    "                            table_copy['self_waiting'] = False\n",
    "                            table_copy['sender_waiting'] = True\n",
    "                            table_copy['sent_by'] = self.my_number\n",
    "                            table_copy['seen_by'] = self.all_tables[key]['seen_by'].copy()\n",
    "                            table_copy['seen_by'][neighbor] = True # pre-marking it as seen is fine\n",
    "                            table_copy['table'] = self.all_tables[key]['table']\n",
    "                            self.router_list[neighbor].all_tables[key] = table_copy\n",
    "                            self.table_sends += 1\n",
    "                            if verbose == True:\n",
    "                                print(f\"router {self.my_number} sending table for router {key} DOWN to router {neighbor}\")\n",
    "                                print(f\"    the table has been seen by: {self.all_tables[key]['seen_by']}\")\n",
    "                            self.all_tables[key]['self_waiting'] = True\n",
    "                            break\n",
    "                # if I'm still not waiting (didn't send a table down)\n",
    "                if self.all_tables[key]['self_waiting'] == False:\n",
    "                    # Then we should send our copy back to the sender (send up)\n",
    "                    if key == self.my_number:\n",
    "                        # if I am the original sender then we are done\n",
    "                        pass\n",
    "                    else:\n",
    "                        # otherwise we should send it back to who we got it from\n",
    "                        sender = self.all_tables[key]['sent_by']\n",
    "                        \"\"\"\n",
    "                        for i in range(self.all_tables[key]['seen_by']):\n",
    "                            if (self.all_tables[key]['seen_by'][i] == True):\n",
    "                                self.router_list[sender].all_tables[key]['seen_by'][i] = True\n",
    "                        \"\"\"\n",
    "\n",
    "                        if verbose == True:\n",
    "                            print(f\"router {self.my_number} sending table for router {key} UP to router {sender}\")\n",
    "                            print(f\"    the table has been seen by: {self.all_tables[key]['seen_by']}\")\n",
    "\n",
    "                        self.router_list[sender].all_tables[key]['self_waiting'] = False\n",
    "                        self.router_list[sender].all_tables[key]['sender_waiting'] = True # sending it back recursively, so the sender is certainly still waiting\n",
    "                        # don't change the sent_by from the sender\n",
    "                        self.router_list[sender].all_tables[key]['seen_by'] = self.all_tables[key]['seen_by'].copy()\n",
    "                        # don't need to change the original table itself\n",
    "                    self.all_tables[key]['sender_waiting'] = False\n",
    "                    \n",
    "                    \n",
    "        return True\n",
    "    def reconstruct_adj(self):\n",
    "        self.reconstructed_adj = [[0 for i in range(nvertices)] for j in range(nvertices)]\n",
    "        for key in self.all_tables:\n",
    "            table = self.all_tables[key]['table']\n",
    "            neighbors = [] # different from self.neighbors\n",
    "            for i in range(len(table)):\n",
    "                if table[i][\"distance\"] == 1:\n",
    "                    neighbors.append(i)\n",
    "            for i in neighbors:\n",
    "                self.reconstructed_adj[key][i] = 1\n",
    "    def dijkstra_to_table(self):\n",
    "        seeking_distance = 1 # start from 1 because 0 is already done.\n",
    "        while True:\n",
    "            updated_table = False\n",
    "            for i in range(nvertices):\n",
    "                if self.routing_table[i][\"distance\"] > seeking_distance:\n",
    "                    for j in range(nvertices):\n",
    "                        if self.reconstructed_adj[i][j]:\n",
    "                            if self.routing_table[j][\"distance\"] == seeking_distance:\n",
    "                                self.routing_table[i][\"distance\"] = seeking_distance + 1\n",
    "                                self.routing_table[i][\"first_hop\"] = self.routing_table[j][\"first_hop\"]\n",
    "                                updated_table = True\n",
    "                            elif self.routing_table[j][\"distance\"] < seeking_distance:\n",
    "                                print(\"some kind of error occured. Abort.\")\n",
    "                                return\n",
    "            seeking_distance += 1\n",
    "            if updated_table is False:\n",
    "                break # alternatively, we could stop when all entries are filled"
   ]
  },
  {
   "cell_type": "code",
   "execution_count": null,
   "id": "3f21c711-c77f-4552-818c-9cc04db8b7e9",
   "metadata": {
    "tags": []
   },
   "outputs": [],
   "source": [
    "def init_routers():\n",
    "    routers = []\n",
    "    for i in range(nvertices):\n",
    "        neighbors_of_i = []\n",
    "        for j in range(nvertices):\n",
    "            if adj[i][j]:\n",
    "                neighbors_of_i.append(j)\n",
    "        routers.append(Router(i,neighbors_of_i))\n",
    "    for router in routers:\n",
    "        router.router_list = routers\n",
    "    return routers"
   ]
  },
  {
   "cell_type": "markdown",
   "id": "0800e4c1-bf8d-4451-8e19-6b56f61fed4a",
   "metadata": {},
   "source": [
    "### Distance Vector"
   ]
  },
  {
   "cell_type": "code",
   "execution_count": null,
   "id": "bd7773cb-f693-42ba-a5fa-e828d5ffe849",
   "metadata": {
    "tags": []
   },
   "outputs": [],
   "source": [
    "def queues_full():\n",
    "    which_queues = []\n",
    "    for i in range(len(routers)):\n",
    "        if len(routers[i].table_queue) > 0:\n",
    "            which_queues.append(i)\n",
    "    return which_queues"
   ]
  },
  {
   "cell_type": "code",
   "execution_count": null,
   "id": "1857212d-32d0-4a97-8f9f-2dcdb8800791",
   "metadata": {
    "tags": []
   },
   "outputs": [],
   "source": [
    "def reset_table_sends():\n",
    "    for router in routers:\n",
    "        router.table_sends = 0"
   ]
  },
  {
   "cell_type": "code",
   "execution_count": null,
   "id": "2b8d9e77-ed64-4e92-99a8-2e081f254dba",
   "metadata": {
    "tags": []
   },
   "outputs": [],
   "source": [
    "def distance_via_dv(initiating_router,verbose=False):\n",
    "    reset_table_sends()\n",
    "    routers[initiating_router].send_request_to_neighbors()\n",
    "    \n",
    "    while(len(queues_full()) > 0):\n",
    "        which_queues = queues_full()\n",
    "        run_this_one = which_queues[random.randrange(len(which_queues))]\n",
    "        routers[run_this_one].update_routing_table(verbose=verbose) # could also do all updates\n",
    "    \n",
    "    total_sends = 0\n",
    "    for router in routers:\n",
    "        total_sends += router.table_sends\n",
    "    return total_sends"
   ]
  },
  {
   "cell_type": "markdown",
   "id": "ef9b06c3-b1e3-4620-b749-a03b00bd978b",
   "metadata": {},
   "source": [
    "### Link State"
   ]
  },
  {
   "cell_type": "code",
   "execution_count": null,
   "id": "ed02212d-f34d-4f57-844f-a56214e38a9a",
   "metadata": {},
   "outputs": [],
   "source": [
    "def routers_with_forwarding():\n",
    "    which_routers = []\n",
    "    for i in range(len(routers)):\n",
    "        if routers[i].tables_to_forward():\n",
    "            which_routers.append(i)\n",
    "    return which_routers"
   ]
  },
  {
   "cell_type": "code",
   "execution_count": null,
   "id": "f322c779-5cc1-499f-8c4e-7b053d236279",
   "metadata": {},
   "outputs": [],
   "source": [
    "def dfw_wrapper(verbose=False):\n",
    "    # TODO: start the link state locally and the first time a router receives a singal, it init-s itself.\n",
    "    reset_table_sends()\n",
    "    for router in routers:\n",
    "        router.init_dfw()\n",
    "    \n",
    "    while(len(routers_with_forwarding()) > 0):\n",
    "          which_routers = routers_with_forwarding()\n",
    "          run_this_one = which_routers[random.randrange(len(which_routers))]\n",
    "          routers[run_this_one].send_tables_dfw(verbose)\n",
    "    \n",
    "    total_sends = 0\n",
    "    for router in routers:\n",
    "        total_sends += router.table_sends\n",
    "    return total_sends"
   ]
  },
  {
   "cell_type": "code",
   "execution_count": null,
   "id": "8993dd2d-4961-4416-a7d5-b843fad47b8b",
   "metadata": {
    "tags": []
   },
   "outputs": [],
   "source": [
    "def distance_via_ls(verbose=False):\n",
    "    send_count_ls = 0\n",
    "    send_count_ls = dfw_wrapper(verbose)\n",
    "    for router in routers:\n",
    "        router.reconstruct_adj()\n",
    "        router.dijkstra_to_table()\n",
    "    return send_count_ls"
   ]
  },
  {
   "cell_type": "markdown",
   "id": "016d9e94-f6ab-4f25-b011-2b26ae96652e",
   "metadata": {},
   "source": [
    "### EBA-showcasing functions for routers"
   ]
  },
  {
   "cell_type": "code",
   "execution_count": null,
   "id": "fb43fe13-c6bf-47dc-9f84-9a5f1f381218",
   "metadata": {
    "tags": []
   },
   "outputs": [],
   "source": [
    "def show_my_functions(router):\n",
    "    print(router.functions)"
   ]
  },
  {
   "cell_type": "code",
   "execution_count": null,
   "id": "300f8e8a-17b8-49d9-ad1e-af37919f9464",
   "metadata": {
    "tags": []
   },
   "outputs": [],
   "source": [
    "routers = init_routers()\n",
    "routers[0].functions[\"show\"] = show_my_functions\n",
    "routers[0].functions[\"show\"](routers[0])"
   ]
  },
  {
   "cell_type": "markdown",
   "id": "1ad4a6e8-a044-4066-9823-ac1c3fb43690",
   "metadata": {},
   "source": [
    "### Topology Change (Eliminating an edge or adding one)"
   ]
  },
  {
   "cell_type": "code",
   "execution_count": null,
   "id": "17d9eff2-910b-40a4-b7de-eecece7a9011",
   "metadata": {
    "tags": []
   },
   "outputs": [],
   "source": [
    "def change_adj(i, j, add_or_remove=True):\n",
    "    # add_or_remove: True for add, False for remove\n",
    "    \n",
    "    # check:\n",
    "    if add_or_remove and adj[i][j]==1:\n",
    "        # then do nothing\n",
    "        return\n",
    "    if not add_or_remove and adj[i][j]==0:\n",
    "        # also do nothing\n",
    "        return\n",
    "    \n",
    "    if add_or_remove is True:\n",
    "        adj[i][j] = 1\n",
    "        adj[j][i] = 1\n",
    "        routers[j].neighbors.append(i)\n",
    "        routers[i].neighbors.append(j)\n",
    "\n",
    "    if add_or_remove is False:\n",
    "        adj[i][j] = 0\n",
    "        adj[j][i] = 0\n",
    "        routers[j].neighbors.remove(i)\n",
    "        routers[i].neighbors.remove(j)\n",
    "    \n",
    "    routers[j].init_routing_table()\n",
    "    routers[i].init_routing_table()"
   ]
  },
  {
   "cell_type": "markdown",
   "id": "a0394710-daaa-4b78-aa92-65649cc78388",
   "metadata": {},
   "source": [
    "### Comparison"
   ]
  },
  {
   "cell_type": "code",
   "execution_count": null,
   "id": "939b6f94-332f-4596-9b89-4caef8e6aedf",
   "metadata": {
    "tags": []
   },
   "outputs": [],
   "source": [
    "# draw again\n",
    "draw_g(g, pos=pos)"
   ]
  },
  {
   "cell_type": "code",
   "execution_count": null,
   "id": "58d461c4-97d0-45fe-ad19-dcdf3bc7d9b6",
   "metadata": {
    "tags": []
   },
   "outputs": [],
   "source": [
    "routers = init_routers()\n",
    "send_count_ls = distance_via_ls(verbose=False)\n",
    "print(f\"total sent tables: {send_count_ls}\")"
   ]
  },
  {
   "cell_type": "code",
   "execution_count": null,
   "id": "1131a9ba-05af-4dcd-90cd-8679ec4152cc",
   "metadata": {
    "tags": []
   },
   "outputs": [],
   "source": [
    "routers[0].print_adj_table()"
   ]
  },
  {
   "cell_type": "code",
   "execution_count": null,
   "id": "71b8ffa2-8c7e-4edf-a29e-4ebbcf3680ac",
   "metadata": {},
   "outputs": [],
   "source": [
    "routers = init_routers()\n",
    "send_count_dv_init = distance_via_dv(0)\n",
    "print(f\"total sent tables: {send_count_dv_init}\")"
   ]
  },
  {
   "cell_type": "code",
   "execution_count": null,
   "id": "5825a169-dbeb-48ec-bc36-b7d3f2647a4c",
   "metadata": {
    "tags": []
   },
   "outputs": [],
   "source": [
    "routers[0].print_adj_table()"
   ]
  },
  {
   "cell_type": "code",
   "execution_count": null,
   "id": "ae6740f7-407c-42c2-9900-2391e4acf085",
   "metadata": {
    "tags": []
   },
   "outputs": [],
   "source": [
    "change_adj(0,1,False)\n",
    "g = adj_to_dgl(adj)\n",
    "draw_g(g, pos=pos)"
   ]
  },
  {
   "cell_type": "code",
   "execution_count": null,
   "id": "b63cfff6-64ee-40e5-b954-6af50f0ff4bb",
   "metadata": {
    "tags": []
   },
   "outputs": [],
   "source": [
    "send_count_dv_adjust = distance_via_dv(0,verbose=False)\n",
    "print(f\"total sent tables: {send_count_dv_adjust}\")"
   ]
  },
  {
   "cell_type": "code",
   "execution_count": null,
   "id": "cbcc2f58-b81d-4469-9aa0-63139d99b016",
   "metadata": {
    "tags": []
   },
   "outputs": [],
   "source": [
    "routers[0].print_adj_table()"
   ]
  },
  {
   "cell_type": "code",
   "execution_count": null,
   "id": "86eb91ff-429c-4171-8cef-ddae006a9182",
   "metadata": {
    "tags": []
   },
   "outputs": [],
   "source": [
    "print(f\"link state             send count: {send_count_ls}\")\n",
    "print(f\"distance vector        send count: {send_count_dv_init}\")\n",
    "print(f\"distance vector second send count: {send_count_dv_adjust}\")\n",
    "print()\n",
    "print()\n",
    "print(f\"memory footprint: {nvertices} tables per router\")"
   ]
  },
  {
   "cell_type": "code",
   "execution_count": null,
   "id": "1d3d81a4-aedf-4663-8565-8403fe5e6e72",
   "metadata": {},
   "outputs": [],
   "source": []
  }
 ],
 "metadata": {
  "kernelspec": {
   "display_name": "gnnenv",
   "language": "python",
   "name": "gnnenv"
  },
  "language_info": {
   "codemirror_mode": {
    "name": "ipython",
    "version": 3
   },
   "file_extension": ".py",
   "mimetype": "text/x-python",
   "name": "python",
   "nbconvert_exporter": "python",
   "pygments_lexer": "ipython3",
   "version": "3.12.2"
  }
 },
 "nbformat": 4,
 "nbformat_minor": 5
}
